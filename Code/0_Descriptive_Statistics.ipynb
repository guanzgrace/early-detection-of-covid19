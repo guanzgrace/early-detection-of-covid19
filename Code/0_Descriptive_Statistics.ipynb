{
 "cells": [
  {
   "cell_type": "markdown",
   "metadata": {},
   "source": [
    "Investigate correlations between our predictors and labels"
   ]
  },
  {
   "cell_type": "code",
   "execution_count": 1,
   "metadata": {},
   "outputs": [],
   "source": [
    "import numpy as np\n",
    "import pandas as pd\n",
    "import seaborn as sns\n",
    "import matplotlib.pyplot as plt\n",
    "import time\n",
    "import pickle\n",
    "import scipy.stats"
   ]
  },
  {
   "cell_type": "code",
   "execution_count": 2,
   "metadata": {},
   "outputs": [],
   "source": [
    "file_suffix='mar9'\n",
    "\n",
    "with open('../OtherData/CombinedDFAdjPopulationExcessMobility_%s.pkl' % (file_suffix), 'rb') as handle:\n",
    "    df = pickle.load(handle)"
   ]
  },
  {
   "cell_type": "code",
   "execution_count": 3,
   "metadata": {},
   "outputs": [
    {
     "data": {
      "text/html": [
       "<div>\n",
       "<style scoped>\n",
       "    .dataframe tbody tr th:only-of-type {\n",
       "        vertical-align: middle;\n",
       "    }\n",
       "\n",
       "    .dataframe tbody tr th {\n",
       "        vertical-align: top;\n",
       "    }\n",
       "\n",
       "    .dataframe thead th {\n",
       "        text-align: right;\n",
       "    }\n",
       "</style>\n",
       "<table border=\"1\" class=\"dataframe\">\n",
       "  <thead>\n",
       "    <tr style=\"text-align: right;\">\n",
       "      <th></th>\n",
       "      <th>Date</th>\n",
       "      <th>Region</th>\n",
       "      <th>Imported Cases</th>\n",
       "      <th>Internal Movement</th>\n",
       "      <th>Excess Imported Cases</th>\n",
       "      <th>Excess Internal Movement</th>\n",
       "      <th>Diff Imported Cases</th>\n",
       "      <th>Diff Internal Movement</th>\n",
       "      <th>Prevalence</th>\n",
       "      <th>accumulated_cases</th>\n",
       "      <th>...</th>\n",
       "      <th>New_Cases_7_Adj100k_6dayago</th>\n",
       "      <th>New_Tests_7_Adj100k_6dayago</th>\n",
       "      <th>Positivity_Rate_7_6dayago</th>\n",
       "      <th>Active_Cases_7_Adj100k_7_6dayago</th>\n",
       "      <th>Excess Internal_Movement_7_Adj100k_6dayago</th>\n",
       "      <th>Diff Internal_Movement_7_Adj100k_6dayago</th>\n",
       "      <th>NewCases_7_Adj100k_next7days</th>\n",
       "      <th>NewTests_7_Adj100k_next7days</th>\n",
       "      <th>Positivity_Rate_7_next7days</th>\n",
       "      <th>Active_Cases_7_Adj100k_next7days</th>\n",
       "    </tr>\n",
       "  </thead>\n",
       "  <tbody>\n",
       "    <tr>\n",
       "      <th>0</th>\n",
       "      <td>2020-04-06</td>\n",
       "      <td>11.0</td>\n",
       "      <td>3.921939</td>\n",
       "      <td>212.960175</td>\n",
       "      <td>-3.931265</td>\n",
       "      <td>-226.041407</td>\n",
       "      <td>1.078971</td>\n",
       "      <td>37.191287</td>\n",
       "      <td>0.000445</td>\n",
       "      <td>36.0</td>\n",
       "      <td>...</td>\n",
       "      <td>0.0</td>\n",
       "      <td>0.0</td>\n",
       "      <td>0.0</td>\n",
       "      <td>0.0</td>\n",
       "      <td>0.0</td>\n",
       "      <td>0.0</td>\n",
       "      <td>0.636391</td>\n",
       "      <td>8.909480</td>\n",
       "      <td>0.040816</td>\n",
       "      <td>40.092659</td>\n",
       "    </tr>\n",
       "    <tr>\n",
       "      <th>1</th>\n",
       "      <td>2020-04-06</td>\n",
       "      <td>43.0</td>\n",
       "      <td>2.662598</td>\n",
       "      <td>54.670330</td>\n",
       "      <td>-3.809694</td>\n",
       "      <td>-53.559707</td>\n",
       "      <td>0.265948</td>\n",
       "      <td>11.647125</td>\n",
       "      <td>0.000565</td>\n",
       "      <td>51.0</td>\n",
       "      <td>...</td>\n",
       "      <td>0.0</td>\n",
       "      <td>0.0</td>\n",
       "      <td>0.0</td>\n",
       "      <td>0.0</td>\n",
       "      <td>0.0</td>\n",
       "      <td>0.0</td>\n",
       "      <td>0.224287</td>\n",
       "      <td>8.074320</td>\n",
       "      <td>0.023810</td>\n",
       "      <td>45.305905</td>\n",
       "    </tr>\n",
       "    <tr>\n",
       "      <th>2</th>\n",
       "      <td>2020-04-07</td>\n",
       "      <td>11.0</td>\n",
       "      <td>339.113515</td>\n",
       "      <td>202.206366</td>\n",
       "      <td>-306.583999</td>\n",
       "      <td>-203.395876</td>\n",
       "      <td>40.443814</td>\n",
       "      <td>38.810005</td>\n",
       "      <td>0.000423</td>\n",
       "      <td>36.0</td>\n",
       "      <td>...</td>\n",
       "      <td>0.0</td>\n",
       "      <td>0.0</td>\n",
       "      <td>0.0</td>\n",
       "      <td>0.0</td>\n",
       "      <td>0.0</td>\n",
       "      <td>0.0</td>\n",
       "      <td>0.636391</td>\n",
       "      <td>8.591284</td>\n",
       "      <td>0.040816</td>\n",
       "      <td>39.456267</td>\n",
       "    </tr>\n",
       "    <tr>\n",
       "      <th>3</th>\n",
       "      <td>2020-04-07</td>\n",
       "      <td>43.0</td>\n",
       "      <td>34.100335</td>\n",
       "      <td>52.911012</td>\n",
       "      <td>-29.197440</td>\n",
       "      <td>-48.437749</td>\n",
       "      <td>6.876160</td>\n",
       "      <td>11.665180</td>\n",
       "      <td>0.000534</td>\n",
       "      <td>51.0</td>\n",
       "      <td>...</td>\n",
       "      <td>0.0</td>\n",
       "      <td>0.0</td>\n",
       "      <td>0.0</td>\n",
       "      <td>0.0</td>\n",
       "      <td>0.0</td>\n",
       "      <td>0.0</td>\n",
       "      <td>0.224287</td>\n",
       "      <td>9.868613</td>\n",
       "      <td>0.023810</td>\n",
       "      <td>43.063038</td>\n",
       "    </tr>\n",
       "    <tr>\n",
       "      <th>4</th>\n",
       "      <td>2020-04-07</td>\n",
       "      <td>71.0</td>\n",
       "      <td>30.927116</td>\n",
       "      <td>799.524759</td>\n",
       "      <td>-26.389180</td>\n",
       "      <td>-201.275965</td>\n",
       "      <td>4.001431</td>\n",
       "      <td>71.185645</td>\n",
       "      <td>0.005787</td>\n",
       "      <td>355.0</td>\n",
       "      <td>...</td>\n",
       "      <td>0.0</td>\n",
       "      <td>0.0</td>\n",
       "      <td>0.0</td>\n",
       "      <td>0.0</td>\n",
       "      <td>0.0</td>\n",
       "      <td>0.0</td>\n",
       "      <td>0.000000</td>\n",
       "      <td>122.899535</td>\n",
       "      <td>0.000000</td>\n",
       "      <td>474.041064</td>\n",
       "    </tr>\n",
       "  </tbody>\n",
       "</table>\n",
       "<p>5 rows × 83 columns</p>\n",
       "</div>"
      ],
      "text/plain": [
       "        Date  Region  Imported Cases  Internal Movement  \\\n",
       "0 2020-04-06    11.0        3.921939         212.960175   \n",
       "1 2020-04-06    43.0        2.662598          54.670330   \n",
       "2 2020-04-07    11.0      339.113515         202.206366   \n",
       "3 2020-04-07    43.0       34.100335          52.911012   \n",
       "4 2020-04-07    71.0       30.927116         799.524759   \n",
       "\n",
       "   Excess Imported Cases  Excess Internal Movement  Diff Imported Cases  \\\n",
       "0              -3.931265               -226.041407             1.078971   \n",
       "1              -3.809694                -53.559707             0.265948   \n",
       "2            -306.583999               -203.395876            40.443814   \n",
       "3             -29.197440                -48.437749             6.876160   \n",
       "4             -26.389180               -201.275965             4.001431   \n",
       "\n",
       "   Diff Internal Movement  Prevalence  accumulated_cases  \\\n",
       "0               37.191287    0.000445               36.0   \n",
       "1               11.647125    0.000565               51.0   \n",
       "2               38.810005    0.000423               36.0   \n",
       "3               11.665180    0.000534               51.0   \n",
       "4               71.185645    0.005787              355.0   \n",
       "\n",
       "                 ...                 New_Cases_7_Adj100k_6dayago  \\\n",
       "0                ...                                         0.0   \n",
       "1                ...                                         0.0   \n",
       "2                ...                                         0.0   \n",
       "3                ...                                         0.0   \n",
       "4                ...                                         0.0   \n",
       "\n",
       "   New_Tests_7_Adj100k_6dayago  Positivity_Rate_7_6dayago  \\\n",
       "0                          0.0                        0.0   \n",
       "1                          0.0                        0.0   \n",
       "2                          0.0                        0.0   \n",
       "3                          0.0                        0.0   \n",
       "4                          0.0                        0.0   \n",
       "\n",
       "   Active_Cases_7_Adj100k_7_6dayago  \\\n",
       "0                               0.0   \n",
       "1                               0.0   \n",
       "2                               0.0   \n",
       "3                               0.0   \n",
       "4                               0.0   \n",
       "\n",
       "   Excess Internal_Movement_7_Adj100k_6dayago  \\\n",
       "0                                         0.0   \n",
       "1                                         0.0   \n",
       "2                                         0.0   \n",
       "3                                         0.0   \n",
       "4                                         0.0   \n",
       "\n",
       "   Diff Internal_Movement_7_Adj100k_6dayago  NewCases_7_Adj100k_next7days  \\\n",
       "0                                       0.0                      0.636391   \n",
       "1                                       0.0                      0.224287   \n",
       "2                                       0.0                      0.636391   \n",
       "3                                       0.0                      0.224287   \n",
       "4                                       0.0                      0.000000   \n",
       "\n",
       "   NewTests_7_Adj100k_next7days  Positivity_Rate_7_next7days  \\\n",
       "0                      8.909480                     0.040816   \n",
       "1                      8.074320                     0.023810   \n",
       "2                      8.591284                     0.040816   \n",
       "3                      9.868613                     0.023810   \n",
       "4                    122.899535                     0.000000   \n",
       "\n",
       "   Active_Cases_7_Adj100k_next7days  \n",
       "0                         40.092659  \n",
       "1                         45.305905  \n",
       "2                         39.456267  \n",
       "3                         43.063038  \n",
       "4                        474.041064  \n",
       "\n",
       "[5 rows x 83 columns]"
      ]
     },
     "execution_count": 3,
     "metadata": {},
     "output_type": "execute_result"
    }
   ],
   "source": [
    "#combined2.where(combined2[\"accumulated_cases\"] == 0).dropna()\n",
    "df.head()"
   ]
  },
  {
   "cell_type": "code",
   "execution_count": 4,
   "metadata": {},
   "outputs": [
    {
     "name": "stdout",
     "output_type": "stream",
     "text": [
      "Number of test regions: 7\n",
      "Number of val regions: 7\n"
     ]
    }
   ],
   "source": [
    "with open('../OtherData/0_test_8_regions_mar9.pkl', 'rb') as handle:\n",
    "    test_regions = pickle.load(handle)\n",
    "\n",
    "with open('../OtherData/0_val_7_regions_mar9.pkl', 'rb') as handle:\n",
    "    val_regions = pickle.load(handle)\n",
    "\n",
    "print(\"Number of test regions: %d\" % (len(test_regions)))\n",
    "print(\"Number of val regions: %d\" % (len(val_regions)))"
   ]
  },
  {
   "cell_type": "code",
   "execution_count": 5,
   "metadata": {},
   "outputs": [],
   "source": [
    "all_regions = np.concatenate((val_regions, test_regions))"
   ]
  },
  {
   "cell_type": "code",
   "execution_count": 6,
   "metadata": {},
   "outputs": [
    {
     "data": {
      "text/plain": [
       "array([22., 44., 32., 43., 23., 21., 11., 41., 42., 51., 24., 61., 62.,\n",
       "       31.])"
      ]
     },
     "execution_count": 6,
     "metadata": {},
     "output_type": "execute_result"
    }
   ],
   "source": [
    "all_regions"
   ]
  },
  {
   "cell_type": "code",
   "execution_count": 7,
   "metadata": {},
   "outputs": [],
   "source": [
    "df = df.where(df[\"Region\"].isin(all_regions)).dropna()"
   ]
  },
  {
   "cell_type": "code",
   "execution_count": 8,
   "metadata": {},
   "outputs": [],
   "source": [
    "val_regs = df.where(df[\"Region\"].isin(val_regions)).dropna()\n",
    "test_regs = df.where(df[\"Region\"].isin(test_regions)).dropna()"
   ]
  },
  {
   "cell_type": "markdown",
   "metadata": {},
   "source": [
    "# Median start date for a region to be reported in our dataset"
   ]
  },
  {
   "cell_type": "code",
   "execution_count": 9,
   "metadata": {},
   "outputs": [],
   "source": [
    "first_date = df.sort_values('Date').drop_duplicates(subset=['Region'],keep='first')\n",
    "first_date_val = val_regs.sort_values('Date').drop_duplicates(subset=['Region'],keep='first')\n",
    "first_date_test = test_regs.sort_values('Date').drop_duplicates(subset=['Region'],keep='first')"
   ]
  },
  {
   "cell_type": "code",
   "execution_count": 10,
   "metadata": {},
   "outputs": [
    {
     "data": {
      "text/plain": [
       "array([22., 44., 32., 43., 23., 21., 11., 41., 42., 51., 24., 61., 62.,\n",
       "       31.])"
      ]
     },
     "execution_count": 10,
     "metadata": {},
     "output_type": "execute_result"
    }
   ],
   "source": [
    "all_regions"
   ]
  },
  {
   "cell_type": "code",
   "execution_count": 11,
   "metadata": {},
   "outputs": [],
   "source": [
    "assert len(first_date)==14\n",
    "assert len(first_date_val)==7\n",
    "assert len(first_date_test)==7"
   ]
  },
  {
   "cell_type": "code",
   "execution_count": 12,
   "metadata": {},
   "outputs": [
    {
     "name": "stdout",
     "output_type": "stream",
     "text": [
      "2020-04-23 00:00:00\n"
     ]
    }
   ],
   "source": [
    "dates = list(first_date[\"Date\"])\n",
    "print(dates[len(dates)//2])"
   ]
  },
  {
   "cell_type": "code",
   "execution_count": 13,
   "metadata": {},
   "outputs": [
    {
     "name": "stdout",
     "output_type": "stream",
     "text": [
      "2020-04-23 00:00:00\n"
     ]
    }
   ],
   "source": [
    "dates = list(first_date_val[\"Date\"])\n",
    "print(dates[len(dates)//2])"
   ]
  },
  {
   "cell_type": "code",
   "execution_count": 14,
   "metadata": {},
   "outputs": [
    {
     "name": "stdout",
     "output_type": "stream",
     "text": [
      "2020-04-20 00:00:00\n"
     ]
    }
   ],
   "source": [
    "dates = list(first_date_test[\"Date\"])\n",
    "print(dates[len(dates)//2])"
   ]
  },
  {
   "cell_type": "markdown",
   "metadata": {},
   "source": [
    "# Population"
   ]
  },
  {
   "cell_type": "code",
   "execution_count": 15,
   "metadata": {},
   "outputs": [],
   "source": [
    "#https://stackoverflow.com/questions/15033511/compute-a-confidence-interval-from-sample-data\n",
    "\n",
    "def mean_confidence_interval(df, col, confidence=0.95):\n",
    "    data = df[col]\n",
    "    a = 1.0 * np.array(data)\n",
    "    n = len(a)\n",
    "    m, se = np.mean(a), scipy.stats.sem(a)\n",
    "    h = se * scipy.stats.t.ppf((1 + confidence) / 2., n-1)\n",
    "    #print(\"Mean %.3f\\t CI (%.3f - %.3f)\"% (m, m-h, m+h))\n",
    "    ci_low = m-h\n",
    "    ci_high = m+h\n",
    "    return m, ci_low, ci_high"
   ]
  },
  {
   "cell_type": "code",
   "execution_count": 16,
   "metadata": {},
   "outputs": [],
   "source": [
    "def append_to_results_df(results, df1, df2, df3, interest):\n",
    "    m1, ci1, ci1h = mean_confidence_interval(df1, interest, 0.95)\n",
    "    m2, ci2, ci2h = mean_confidence_interval(df2, interest, 0.95)\n",
    "    m3, ci3, ci3h = mean_confidence_interval(df3, interest, 0.95)\n",
    "    results = results.append({'Column': interest,\n",
    "                              'All Mean': m1,\n",
    "                              'All CI Low': ci1,\n",
    "                              'All CI High': ci1h,\n",
    "                              'Val Mean': m2,\n",
    "                              'Val CI Low': ci2,\n",
    "                              'Val CI High': ci2h,\n",
    "                              'Test Mean': m3,\n",
    "                              'Test CI Low': ci3,\n",
    "                              'Test CI High': ci3h}, ignore_index=True)\n",
    "    return results"
   ]
  },
  {
   "cell_type": "code",
   "execution_count": 17,
   "metadata": {},
   "outputs": [],
   "source": [
    "results_df = pd.DataFrame(columns=['Column', 'All Mean', 'All CI Low', 'All CI High',\n",
    "                                   'Val Mean', 'Val CI Low', 'Val CI High',\n",
    "                                   'Test Mean', 'Test CI Low', 'Test CI High'])"
   ]
  },
  {
   "cell_type": "code",
   "execution_count": 18,
   "metadata": {},
   "outputs": [],
   "source": [
    "one_time_labels = [\"population\", \"weighted_mean_poverty\", 'median age']\n",
    "for label in one_time_labels:\n",
    "    results_df = append_to_results_df(results_df, df.iloc[-14:], val_regs.iloc[-7:], test_regs.iloc[-7:], label)\n",
    "\n",
    "#all_time_labels = [\"active_cases\", \"new_cases\", \"new_tests\", \"positivity_rate\", \"Imported Cases\", \"Internal Movement\"]\n",
    "#for label in all_time_labels:\n",
    "#    results_df = append_to_results_df(results_df, df, val_regs, test_regs, label)"
   ]
  },
  {
   "cell_type": "code",
   "execution_count": 19,
   "metadata": {},
   "outputs": [
    {
     "data": {
      "text/html": [
       "<div>\n",
       "<style scoped>\n",
       "    .dataframe tbody tr th:only-of-type {\n",
       "        vertical-align: middle;\n",
       "    }\n",
       "\n",
       "    .dataframe tbody tr th {\n",
       "        vertical-align: top;\n",
       "    }\n",
       "\n",
       "    .dataframe thead th {\n",
       "        text-align: right;\n",
       "    }\n",
       "</style>\n",
       "<table border=\"1\" class=\"dataframe\">\n",
       "  <thead>\n",
       "    <tr style=\"text-align: right;\">\n",
       "      <th></th>\n",
       "      <th>Column</th>\n",
       "      <th>All Mean</th>\n",
       "      <th>All CI Low</th>\n",
       "      <th>All CI High</th>\n",
       "      <th>Val Mean</th>\n",
       "      <th>Val CI Low</th>\n",
       "      <th>Val CI High</th>\n",
       "      <th>Test Mean</th>\n",
       "      <th>Test CI Low</th>\n",
       "      <th>Test CI High</th>\n",
       "    </tr>\n",
       "  </thead>\n",
       "  <tbody>\n",
       "    <tr>\n",
       "      <th>0</th>\n",
       "      <td>population</td>\n",
       "      <td>590623.928571</td>\n",
       "      <td>386058.064962</td>\n",
       "      <td>795189.792181</td>\n",
       "      <td>445901.571429</td>\n",
       "      <td>126850.696220</td>\n",
       "      <td>764952.446637</td>\n",
       "      <td>735346.285714</td>\n",
       "      <td>436954.800267</td>\n",
       "      <td>1.033738e+06</td>\n",
       "    </tr>\n",
       "    <tr>\n",
       "      <th>1</th>\n",
       "      <td>weighted_mean_poverty</td>\n",
       "      <td>3.957473</td>\n",
       "      <td>3.031993</td>\n",
       "      <td>4.882953</td>\n",
       "      <td>3.439811</td>\n",
       "      <td>1.886877</td>\n",
       "      <td>4.992745</td>\n",
       "      <td>4.475135</td>\n",
       "      <td>3.127915</td>\n",
       "      <td>5.822355e+00</td>\n",
       "    </tr>\n",
       "    <tr>\n",
       "      <th>2</th>\n",
       "      <td>median age</td>\n",
       "      <td>29.693661</td>\n",
       "      <td>27.724575</td>\n",
       "      <td>31.662748</td>\n",
       "      <td>28.216108</td>\n",
       "      <td>25.388970</td>\n",
       "      <td>31.043246</td>\n",
       "      <td>31.171214</td>\n",
       "      <td>28.137341</td>\n",
       "      <td>3.420509e+01</td>\n",
       "    </tr>\n",
       "  </tbody>\n",
       "</table>\n",
       "</div>"
      ],
      "text/plain": [
       "                  Column       All Mean     All CI Low    All CI High  \\\n",
       "0             population  590623.928571  386058.064962  795189.792181   \n",
       "1  weighted_mean_poverty       3.957473       3.031993       4.882953   \n",
       "2             median age      29.693661      27.724575      31.662748   \n",
       "\n",
       "        Val Mean     Val CI Low    Val CI High      Test Mean    Test CI Low  \\\n",
       "0  445901.571429  126850.696220  764952.446637  735346.285714  436954.800267   \n",
       "1       3.439811       1.886877       4.992745       4.475135       3.127915   \n",
       "2      28.216108      25.388970      31.043246      31.171214      28.137341   \n",
       "\n",
       "   Test CI High  \n",
       "0  1.033738e+06  \n",
       "1  5.822355e+00  \n",
       "2  3.420509e+01  "
      ]
     },
     "execution_count": 19,
     "metadata": {},
     "output_type": "execute_result"
    }
   ],
   "source": [
    "results_df"
   ]
  },
  {
   "cell_type": "code",
   "execution_count": 20,
   "metadata": {},
   "outputs": [],
   "source": [
    "all_time_labels = [\"active_cases_Adj100k\", \"new_cases_Adj100k\", \"new_tests_Adj100k\",\n",
    "                   \"positivity_rate\", \"Imported Cases_Adj100k\", \"Internal Movement_Adj100k\"]\n",
    "for label in all_time_labels:\n",
    "    results_df = append_to_results_df(results_df, df, val_regs, test_regs, label)"
   ]
  },
  {
   "cell_type": "code",
   "execution_count": 21,
   "metadata": {},
   "outputs": [
    {
     "data": {
      "text/html": [
       "<div>\n",
       "<style scoped>\n",
       "    .dataframe tbody tr th:only-of-type {\n",
       "        vertical-align: middle;\n",
       "    }\n",
       "\n",
       "    .dataframe tbody tr th {\n",
       "        vertical-align: top;\n",
       "    }\n",
       "\n",
       "    .dataframe thead th {\n",
       "        text-align: right;\n",
       "    }\n",
       "</style>\n",
       "<table border=\"1\" class=\"dataframe\">\n",
       "  <thead>\n",
       "    <tr style=\"text-align: right;\">\n",
       "      <th></th>\n",
       "      <th>Column</th>\n",
       "      <th>All Mean</th>\n",
       "      <th>All CI Low</th>\n",
       "      <th>All CI High</th>\n",
       "      <th>Val Mean</th>\n",
       "      <th>Val CI Low</th>\n",
       "      <th>Val CI High</th>\n",
       "      <th>Test Mean</th>\n",
       "      <th>Test CI Low</th>\n",
       "      <th>Test CI High</th>\n",
       "    </tr>\n",
       "  </thead>\n",
       "  <tbody>\n",
       "    <tr>\n",
       "      <th>0</th>\n",
       "      <td>population</td>\n",
       "      <td>590623.928571</td>\n",
       "      <td>386058.064962</td>\n",
       "      <td>795189.792181</td>\n",
       "      <td>445901.571429</td>\n",
       "      <td>126850.696220</td>\n",
       "      <td>764952.446637</td>\n",
       "      <td>735346.285714</td>\n",
       "      <td>436954.800267</td>\n",
       "      <td>1.033738e+06</td>\n",
       "    </tr>\n",
       "    <tr>\n",
       "      <th>1</th>\n",
       "      <td>weighted_mean_poverty</td>\n",
       "      <td>3.957473</td>\n",
       "      <td>3.031993</td>\n",
       "      <td>4.882953</td>\n",
       "      <td>3.439811</td>\n",
       "      <td>1.886877</td>\n",
       "      <td>4.992745</td>\n",
       "      <td>4.475135</td>\n",
       "      <td>3.127915</td>\n",
       "      <td>5.822355e+00</td>\n",
       "    </tr>\n",
       "    <tr>\n",
       "      <th>2</th>\n",
       "      <td>median age</td>\n",
       "      <td>29.693661</td>\n",
       "      <td>27.724575</td>\n",
       "      <td>31.662748</td>\n",
       "      <td>28.216108</td>\n",
       "      <td>25.388970</td>\n",
       "      <td>31.043246</td>\n",
       "      <td>31.171214</td>\n",
       "      <td>28.137341</td>\n",
       "      <td>3.420509e+01</td>\n",
       "    </tr>\n",
       "    <tr>\n",
       "      <th>3</th>\n",
       "      <td>active_cases_Adj100k</td>\n",
       "      <td>266.393346</td>\n",
       "      <td>257.456129</td>\n",
       "      <td>275.330563</td>\n",
       "      <td>303.090267</td>\n",
       "      <td>287.600896</td>\n",
       "      <td>318.579638</td>\n",
       "      <td>229.539824</td>\n",
       "      <td>220.925778</td>\n",
       "      <td>2.381539e+02</td>\n",
       "    </tr>\n",
       "    <tr>\n",
       "      <th>4</th>\n",
       "      <td>new_cases_Adj100k</td>\n",
       "      <td>21.781280</td>\n",
       "      <td>20.870916</td>\n",
       "      <td>22.691644</td>\n",
       "      <td>24.960245</td>\n",
       "      <td>23.381151</td>\n",
       "      <td>26.539340</td>\n",
       "      <td>18.588748</td>\n",
       "      <td>17.705614</td>\n",
       "      <td>1.947188e+01</td>\n",
       "    </tr>\n",
       "    <tr>\n",
       "      <th>5</th>\n",
       "      <td>new_tests_Adj100k</td>\n",
       "      <td>366.627357</td>\n",
       "      <td>354.362044</td>\n",
       "      <td>378.892669</td>\n",
       "      <td>362.485903</td>\n",
       "      <td>343.073465</td>\n",
       "      <td>381.898342</td>\n",
       "      <td>370.786483</td>\n",
       "      <td>355.797072</td>\n",
       "      <td>3.857759e+02</td>\n",
       "    </tr>\n",
       "    <tr>\n",
       "      <th>6</th>\n",
       "      <td>positivity_rate</td>\n",
       "      <td>0.051574</td>\n",
       "      <td>0.050194</td>\n",
       "      <td>0.052955</td>\n",
       "      <td>0.056387</td>\n",
       "      <td>0.054186</td>\n",
       "      <td>0.058588</td>\n",
       "      <td>0.046741</td>\n",
       "      <td>0.045102</td>\n",
       "      <td>4.838128e-02</td>\n",
       "    </tr>\n",
       "    <tr>\n",
       "      <th>7</th>\n",
       "      <td>Imported Cases_Adj100k</td>\n",
       "      <td>79.066958</td>\n",
       "      <td>76.761497</td>\n",
       "      <td>81.372419</td>\n",
       "      <td>102.168994</td>\n",
       "      <td>98.162147</td>\n",
       "      <td>106.175840</td>\n",
       "      <td>55.866335</td>\n",
       "      <td>54.072827</td>\n",
       "      <td>5.765984e+01</td>\n",
       "    </tr>\n",
       "    <tr>\n",
       "      <th>8</th>\n",
       "      <td>Internal Movement_Adj100k</td>\n",
       "      <td>210.259251</td>\n",
       "      <td>202.043772</td>\n",
       "      <td>218.474731</td>\n",
       "      <td>178.888363</td>\n",
       "      <td>171.332952</td>\n",
       "      <td>186.443774</td>\n",
       "      <td>241.764012</td>\n",
       "      <td>227.266994</td>\n",
       "      <td>2.562610e+02</td>\n",
       "    </tr>\n",
       "  </tbody>\n",
       "</table>\n",
       "</div>"
      ],
      "text/plain": [
       "                      Column       All Mean     All CI Low    All CI High  \\\n",
       "0                 population  590623.928571  386058.064962  795189.792181   \n",
       "1      weighted_mean_poverty       3.957473       3.031993       4.882953   \n",
       "2                 median age      29.693661      27.724575      31.662748   \n",
       "3       active_cases_Adj100k     266.393346     257.456129     275.330563   \n",
       "4          new_cases_Adj100k      21.781280      20.870916      22.691644   \n",
       "5          new_tests_Adj100k     366.627357     354.362044     378.892669   \n",
       "6            positivity_rate       0.051574       0.050194       0.052955   \n",
       "7     Imported Cases_Adj100k      79.066958      76.761497      81.372419   \n",
       "8  Internal Movement_Adj100k     210.259251     202.043772     218.474731   \n",
       "\n",
       "        Val Mean     Val CI Low    Val CI High      Test Mean    Test CI Low  \\\n",
       "0  445901.571429  126850.696220  764952.446637  735346.285714  436954.800267   \n",
       "1       3.439811       1.886877       4.992745       4.475135       3.127915   \n",
       "2      28.216108      25.388970      31.043246      31.171214      28.137341   \n",
       "3     303.090267     287.600896     318.579638     229.539824     220.925778   \n",
       "4      24.960245      23.381151      26.539340      18.588748      17.705614   \n",
       "5     362.485903     343.073465     381.898342     370.786483     355.797072   \n",
       "6       0.056387       0.054186       0.058588       0.046741       0.045102   \n",
       "7     102.168994      98.162147     106.175840      55.866335      54.072827   \n",
       "8     178.888363     171.332952     186.443774     241.764012     227.266994   \n",
       "\n",
       "   Test CI High  \n",
       "0  1.033738e+06  \n",
       "1  5.822355e+00  \n",
       "2  3.420509e+01  \n",
       "3  2.381539e+02  \n",
       "4  1.947188e+01  \n",
       "5  3.857759e+02  \n",
       "6  4.838128e-02  \n",
       "7  5.765984e+01  \n",
       "8  2.562610e+02  "
      ]
     },
     "execution_count": 21,
     "metadata": {},
     "output_type": "execute_result"
    }
   ],
   "source": [
    "results_df"
   ]
  },
  {
   "cell_type": "code",
   "execution_count": null,
   "metadata": {},
   "outputs": [],
   "source": []
  }
 ],
 "metadata": {
  "kernelspec": {
   "display_name": "Python 3",
   "language": "python",
   "name": "python3"
  },
  "language_info": {
   "codemirror_mode": {
    "name": "ipython",
    "version": 3
   },
   "file_extension": ".py",
   "mimetype": "text/x-python",
   "name": "python",
   "nbconvert_exporter": "python",
   "pygments_lexer": "ipython3",
   "version": "3.6.5"
  }
 },
 "nbformat": 4,
 "nbformat_minor": 2
}
