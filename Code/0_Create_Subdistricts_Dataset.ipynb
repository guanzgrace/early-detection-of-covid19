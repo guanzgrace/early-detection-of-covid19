{
 "cells": [
  {
   "cell_type": "markdown",
   "metadata": {},
   "source": [
    "Creates: '../OtherData/ActiveCasesVector.pickle' which maps dates to the number of active cases in each 250 region (date -> 250x1 vector)\n",
    "\n",
    "'../OtherData/DailyODMatrix.pickle' which maps dates to the OD matrix for each day (date -> 250x250 matrix)\n",
    "\n",
    "'../OtherData/DailyNumCasesImported.pickle' which maps dates to the product of the above incidence vector and OD matrix. This vector represents the approximate amount of cases imported into each destination region for each day (date-> 250x1 vector)"
   ]
  },
  {
   "cell_type": "markdown",
   "metadata": {},
   "source": [
    "*Most recent run:* March 9 data."
   ]
  },
  {
   "cell_type": "code",
   "execution_count": 1,
   "metadata": {},
   "outputs": [],
   "source": [
    "import numpy as np # linear algebra\n",
    "import pandas as pd # data processing, CSV file I/O (e.g. pd.read_csv)\n",
    "import seaborn as sns\n",
    "import matplotlib.pyplot as plt\n",
    "import xgboost as xgb\n",
    "from xgboost import plot_importance, plot_tree\n",
    "from sklearn import preprocessing\n",
    "from sklearn.metrics import mean_squared_error, mean_absolute_error\n",
    "import time\n",
    "import pickle\n",
    "import datetime"
   ]
  },
  {
   "cell_type": "code",
   "execution_count": 2,
   "metadata": {},
   "outputs": [],
   "source": [
    "file_suffix = \"mar9\""
   ]
  },
  {
   "cell_type": "markdown",
   "metadata": {},
   "source": [
    "### Read in all necessary files here"
   ]
  },
  {
   "cell_type": "code",
   "execution_count": 3,
   "metadata": {},
   "outputs": [],
   "source": [
    "mapping = pd.read_csv(\"../OtherData/TAZdemography.csv\")"
   ]
  },
  {
   "cell_type": "code",
   "execution_count": 4,
   "metadata": {},
   "outputs": [],
   "source": [
    "mapping_dict = dict()\n",
    "for _, row in mapping.iterrows():\n",
    "    reg_250 = row[\"link to 250 model\"]\n",
    "    reg_sub = row[\"sub-district\"]\n",
    "    try:\n",
    "        keep_in_dict = mapping_dict[reg_250]\n",
    "        keep_in_dict.append(reg_sub)\n",
    "        mapping_dict[reg_250] = keep_in_dict\n",
    "    except:\n",
    "        keep = list()\n",
    "        keep.append(reg_sub)\n",
    "        mapping_dict[reg_250] = keep"
   ]
  },
  {
   "cell_type": "code",
   "execution_count": 5,
   "metadata": {},
   "outputs": [],
   "source": [
    "from collections import Counter"
   ]
  },
  {
   "cell_type": "code",
   "execution_count": null,
   "metadata": {},
   "outputs": [],
   "source": []
  },
  {
   "cell_type": "code",
   "execution_count": 6,
   "metadata": {},
   "outputs": [],
   "source": [
    "mapping_common = dict()\n",
    "\n",
    "for k, v in mapping_dict.items():\n",
    "    c = Counter(v)\n",
    "    mapping_common[k] = c.most_common(1)[0][0]"
   ]
  },
  {
   "cell_type": "code",
   "execution_count": 7,
   "metadata": {},
   "outputs": [],
   "source": [
    "mapping_common[2000023] = 11.0\n",
    "mapping_common[2000045] = 31.0\n",
    "mapping_common[2000048] = 32.0\n",
    "mapping_common[2000050] = 22.0\n",
    "mapping_common[2000063] = 31.0\n",
    "mapping_common[2000064] = 32.0\n",
    "mapping_common[2000083] = 31.0\n",
    "mapping_common[2000084] = 24.0\n",
    "mapping_common[2000088] = 31.0\n",
    "mapping_common[2000090] = 32.0\n",
    "mapping_common[2000092] = 24.0\n",
    "mapping_common[2000093] = 23.0\n",
    "mapping_common[2000146] = 42.0\n",
    "mapping_common[2000147] = 42.0\n",
    "mapping_common[2000152] = 44.0\n",
    "mapping_common[2000153] = 44.0\n",
    "mapping_common[2000161] = 42.0\n",
    "mapping_common[2000177] = 51.0\n",
    "mapping_common[2000205] = 51.0\n",
    "mapping_common[2000220] = 61.0"
   ]
  },
  {
   "cell_type": "code",
   "execution_count": 8,
   "metadata": {},
   "outputs": [],
   "source": [
    "results = pd.read_csv(\"../OtherData/results_mapping_feb14.csv\")"
   ]
  },
  {
   "cell_type": "code",
   "execution_count": 9,
   "metadata": {},
   "outputs": [],
   "source": [
    "od_df = pd.read_pickle(\"../OtherData/od_daily_ma_updated_jan2.pkl\")"
   ]
  },
  {
   "cell_type": "code",
   "execution_count": 10,
   "metadata": {},
   "outputs": [],
   "source": [
    "a250_to_16 = mapping_common #dict(zip(mapping[\"link to 250 model\"], mapping[\"sub-district\"]))"
   ]
  },
  {
   "cell_type": "code",
   "execution_count": 11,
   "metadata": {},
   "outputs": [
    {
     "name": "stdout",
     "output_type": "stream",
     "text": [
      "Saved file\n"
     ]
    }
   ],
   "source": [
    "def dump_to_pickle(file, filename):\n",
    "    with open(filename, 'wb') as handle:\n",
    "        pickle.dump(file, handle, protocol=pickle.HIGHEST_PROTOCOL)\n",
    "    print(\"Saved file\")\n",
    "    \n",
    "dump_to_pickle(a250_to_16, \"../OtherData/250_to_16_new.csv\")"
   ]
  },
  {
   "cell_type": "markdown",
   "metadata": {},
   "source": [
    "### Code to organize trips and other mobility features"
   ]
  },
  {
   "cell_type": "code",
   "execution_count": 12,
   "metadata": {
    "scrolled": true
   },
   "outputs": [
    {
     "data": {
      "text/html": [
       "<div>\n",
       "<style scoped>\n",
       "    .dataframe tbody tr th:only-of-type {\n",
       "        vertical-align: middle;\n",
       "    }\n",
       "\n",
       "    .dataframe tbody tr th {\n",
       "        vertical-align: top;\n",
       "    }\n",
       "\n",
       "    .dataframe thead th {\n",
       "        text-align: right;\n",
       "    }\n",
       "</style>\n",
       "<table border=\"1\" class=\"dataframe\">\n",
       "  <thead>\n",
       "    <tr style=\"text-align: right;\">\n",
       "      <th></th>\n",
       "      <th>250_regions</th>\n",
       "      <th>date</th>\n",
       "      <th>accumulated_cases</th>\n",
       "      <th>accumulated_recoveries</th>\n",
       "      <th>accumulated_tested</th>\n",
       "      <th>active_cases</th>\n",
       "      <th>weighted_mean_poverty</th>\n",
       "      <th>population</th>\n",
       "      <th>median age</th>\n",
       "    </tr>\n",
       "  </thead>\n",
       "  <tbody>\n",
       "    <tr>\n",
       "      <th>0</th>\n",
       "      <td>2000001.0</td>\n",
       "      <td>2020-05-02</td>\n",
       "      <td>24.0</td>\n",
       "      <td>14.0</td>\n",
       "      <td>547.0</td>\n",
       "      <td>10.0</td>\n",
       "      <td>2.0</td>\n",
       "      <td>45047.0</td>\n",
       "      <td>21.0</td>\n",
       "    </tr>\n",
       "    <tr>\n",
       "      <th>1</th>\n",
       "      <td>2000001.0</td>\n",
       "      <td>2020-05-03</td>\n",
       "      <td>24.0</td>\n",
       "      <td>14.0</td>\n",
       "      <td>556.0</td>\n",
       "      <td>10.0</td>\n",
       "      <td>2.0</td>\n",
       "      <td>45047.0</td>\n",
       "      <td>21.0</td>\n",
       "    </tr>\n",
       "    <tr>\n",
       "      <th>2</th>\n",
       "      <td>2000001.0</td>\n",
       "      <td>2020-05-04</td>\n",
       "      <td>24.0</td>\n",
       "      <td>15.0</td>\n",
       "      <td>565.0</td>\n",
       "      <td>9.0</td>\n",
       "      <td>2.0</td>\n",
       "      <td>45047.0</td>\n",
       "      <td>21.0</td>\n",
       "    </tr>\n",
       "    <tr>\n",
       "      <th>3</th>\n",
       "      <td>2000001.0</td>\n",
       "      <td>2020-05-05</td>\n",
       "      <td>24.0</td>\n",
       "      <td>15.0</td>\n",
       "      <td>580.0</td>\n",
       "      <td>9.0</td>\n",
       "      <td>2.0</td>\n",
       "      <td>45047.0</td>\n",
       "      <td>21.0</td>\n",
       "    </tr>\n",
       "    <tr>\n",
       "      <th>4</th>\n",
       "      <td>2000001.0</td>\n",
       "      <td>2020-05-06</td>\n",
       "      <td>24.0</td>\n",
       "      <td>15.0</td>\n",
       "      <td>589.0</td>\n",
       "      <td>9.0</td>\n",
       "      <td>2.0</td>\n",
       "      <td>45047.0</td>\n",
       "      <td>21.0</td>\n",
       "    </tr>\n",
       "  </tbody>\n",
       "</table>\n",
       "</div>"
      ],
      "text/plain": [
       "   250_regions        date  accumulated_cases  accumulated_recoveries  \\\n",
       "0    2000001.0  2020-05-02               24.0                    14.0   \n",
       "1    2000001.0  2020-05-03               24.0                    14.0   \n",
       "2    2000001.0  2020-05-04               24.0                    15.0   \n",
       "3    2000001.0  2020-05-05               24.0                    15.0   \n",
       "4    2000001.0  2020-05-06               24.0                    15.0   \n",
       "\n",
       "   accumulated_tested  active_cases  weighted_mean_poverty  population  \\\n",
       "0               547.0          10.0                    2.0     45047.0   \n",
       "1               556.0          10.0                    2.0     45047.0   \n",
       "2               565.0           9.0                    2.0     45047.0   \n",
       "3               580.0           9.0                    2.0     45047.0   \n",
       "4               589.0           9.0                    2.0     45047.0   \n",
       "\n",
       "   median age  \n",
       "0        21.0  \n",
       "1        21.0  \n",
       "2        21.0  \n",
       "3        21.0  \n",
       "4        21.0  "
      ]
     },
     "execution_count": 12,
     "metadata": {},
     "output_type": "execute_result"
    }
   ],
   "source": [
    "results.head()"
   ]
  },
  {
   "cell_type": "code",
   "execution_count": 13,
   "metadata": {},
   "outputs": [],
   "source": [
    "results = results.replace({\"250_regions\": a250_to_16})"
   ]
  },
  {
   "cell_type": "code",
   "execution_count": 14,
   "metadata": {},
   "outputs": [],
   "source": [
    "results2 = results.groupby(['date', '250_regions']).sum()[[\"accumulated_cases\", \"accumulated_recoveries\", \"accumulated_tested\", \"active_cases\", \"population\"]]"
   ]
  },
  {
   "cell_type": "code",
   "execution_count": 15,
   "metadata": {},
   "outputs": [],
   "source": [
    "results2[\"median age\"] = results.groupby(['date', '250_regions']).mean()[[\"median age\"]]\n",
    "results2[\"weighted_mean_poverty\"] = results.groupby(['date', '250_regions']).mean()[[\"weighted_mean_poverty\"]]"
   ]
  },
  {
   "cell_type": "code",
   "execution_count": 16,
   "metadata": {},
   "outputs": [
    {
     "data": {
      "text/html": [
       "<div>\n",
       "<style scoped>\n",
       "    .dataframe tbody tr th:only-of-type {\n",
       "        vertical-align: middle;\n",
       "    }\n",
       "\n",
       "    .dataframe tbody tr th {\n",
       "        vertical-align: top;\n",
       "    }\n",
       "\n",
       "    .dataframe thead th {\n",
       "        text-align: right;\n",
       "    }\n",
       "</style>\n",
       "<table border=\"1\" class=\"dataframe\">\n",
       "  <thead>\n",
       "    <tr style=\"text-align: right;\">\n",
       "      <th></th>\n",
       "      <th></th>\n",
       "      <th>accumulated_cases</th>\n",
       "      <th>accumulated_recoveries</th>\n",
       "      <th>accumulated_tested</th>\n",
       "      <th>active_cases</th>\n",
       "      <th>population</th>\n",
       "      <th>median age</th>\n",
       "      <th>weighted_mean_poverty</th>\n",
       "    </tr>\n",
       "    <tr>\n",
       "      <th>date</th>\n",
       "      <th>250_regions</th>\n",
       "      <th></th>\n",
       "      <th></th>\n",
       "      <th></th>\n",
       "      <th></th>\n",
       "      <th></th>\n",
       "      <th></th>\n",
       "      <th></th>\n",
       "    </tr>\n",
       "  </thead>\n",
       "  <tbody>\n",
       "    <tr>\n",
       "      <th rowspan=\"2\" valign=\"top\">2020-04-06</th>\n",
       "      <th>11.0</th>\n",
       "      <td>36.0</td>\n",
       "      <td>15.0</td>\n",
       "      <td>343.0</td>\n",
       "      <td>20.0</td>\n",
       "      <td>44896.0</td>\n",
       "      <td>25.0</td>\n",
       "      <td>2.0</td>\n",
       "    </tr>\n",
       "    <tr>\n",
       "      <th>43.0</th>\n",
       "      <td>51.0</td>\n",
       "      <td>15.0</td>\n",
       "      <td>469.0</td>\n",
       "      <td>36.0</td>\n",
       "      <td>63694.0</td>\n",
       "      <td>24.5</td>\n",
       "      <td>7.0</td>\n",
       "    </tr>\n",
       "    <tr>\n",
       "      <th rowspan=\"3\" valign=\"top\">2020-04-07</th>\n",
       "      <th>11.0</th>\n",
       "      <td>36.0</td>\n",
       "      <td>16.0</td>\n",
       "      <td>346.0</td>\n",
       "      <td>19.0</td>\n",
       "      <td>44896.0</td>\n",
       "      <td>25.0</td>\n",
       "      <td>2.0</td>\n",
       "    </tr>\n",
       "    <tr>\n",
       "      <th>43.0</th>\n",
       "      <td>51.0</td>\n",
       "      <td>17.0</td>\n",
       "      <td>473.0</td>\n",
       "      <td>34.0</td>\n",
       "      <td>63694.0</td>\n",
       "      <td>24.5</td>\n",
       "      <td>7.0</td>\n",
       "    </tr>\n",
       "    <tr>\n",
       "      <th>71.0</th>\n",
       "      <td>355.0</td>\n",
       "      <td>96.0</td>\n",
       "      <td>3386.0</td>\n",
       "      <td>259.0</td>\n",
       "      <td>44752.0</td>\n",
       "      <td>19.0</td>\n",
       "      <td>2.0</td>\n",
       "    </tr>\n",
       "  </tbody>\n",
       "</table>\n",
       "</div>"
      ],
      "text/plain": [
       "                        accumulated_cases  accumulated_recoveries  \\\n",
       "date       250_regions                                              \n",
       "2020-04-06 11.0                      36.0                    15.0   \n",
       "           43.0                      51.0                    15.0   \n",
       "2020-04-07 11.0                      36.0                    16.0   \n",
       "           43.0                      51.0                    17.0   \n",
       "           71.0                     355.0                    96.0   \n",
       "\n",
       "                        accumulated_tested  active_cases  population  \\\n",
       "date       250_regions                                                 \n",
       "2020-04-06 11.0                      343.0          20.0     44896.0   \n",
       "           43.0                      469.0          36.0     63694.0   \n",
       "2020-04-07 11.0                      346.0          19.0     44896.0   \n",
       "           43.0                      473.0          34.0     63694.0   \n",
       "           71.0                     3386.0         259.0     44752.0   \n",
       "\n",
       "                        median age  weighted_mean_poverty  \n",
       "date       250_regions                                     \n",
       "2020-04-06 11.0               25.0                    2.0  \n",
       "           43.0               24.5                    7.0  \n",
       "2020-04-07 11.0               25.0                    2.0  \n",
       "           43.0               24.5                    7.0  \n",
       "           71.0               19.0                    2.0  "
      ]
     },
     "execution_count": 16,
     "metadata": {},
     "output_type": "execute_result"
    }
   ],
   "source": [
    "results2.head()"
   ]
  },
  {
   "cell_type": "code",
   "execution_count": 17,
   "metadata": {},
   "outputs": [],
   "source": [
    "results = results2.reset_index()"
   ]
  },
  {
   "cell_type": "code",
   "execution_count": 18,
   "metadata": {},
   "outputs": [],
   "source": [
    "results[\"active_cases\"].replace(np.inf, 0, inplace=True)\n",
    "results[\"active_cases\"].replace(np.nan, 0, inplace=True)\n",
    "results[\"prevalence\"] = results[\"active_cases\"] / results[\"population\"]\n",
    "\n",
    "results['date'] = pd.to_datetime(results[\"date\"], dayfirst=True)\n",
    "results1 = results.set_index([\"date\",\"250_regions\"])\n",
    "\n",
    "results1[\"new_cases\"] = results1.groupby(by=[\"250_regions\"])[\"accumulated_cases\"].diff().fillna(0)\n",
    "results1[\"new_tests\"] = results1.groupby(by=[\"250_regions\"])[\"accumulated_tested\"].diff().fillna(0)\n",
    "results1[\"new_cases\"].replace(np.inf, 0, inplace=True)\n",
    "results1[\"new_cases\"].replace(np.nan, 0, inplace=True)\n",
    "results1[\"new_tests\"].replace(np.inf, 0, inplace=True)\n",
    "results1[\"new_tests\"].replace(np.nan, 0, inplace=True)\n",
    "\n",
    "results1[\"positivity_rate\"] = results1[\"new_cases\"] / results1[\"new_tests\"]\n",
    "results1[\"positivity_rate\"].replace(np.inf, 0, inplace=True)\n",
    "results1[\"positivity_rate\"].replace(np.nan, 0, inplace=True)\n",
    "\n",
    "results1[\"positivity_rate\"] = results1[\"positivity_rate\"].clip(lower=0.0,upper=1.0)\n",
    "results1[\"new_cases\"] = results1[\"new_cases\"].clip(lower=0.0)\n",
    "results1[\"new_tests\"] = results1[\"new_tests\"].clip(lower=0.0)\n"
   ]
  },
  {
   "cell_type": "code",
   "execution_count": 19,
   "metadata": {},
   "outputs": [
    {
     "data": {
      "text/html": [
       "<div>\n",
       "<style scoped>\n",
       "    .dataframe tbody tr th:only-of-type {\n",
       "        vertical-align: middle;\n",
       "    }\n",
       "\n",
       "    .dataframe tbody tr th {\n",
       "        vertical-align: top;\n",
       "    }\n",
       "\n",
       "    .dataframe thead th {\n",
       "        text-align: right;\n",
       "    }\n",
       "</style>\n",
       "<table border=\"1\" class=\"dataframe\">\n",
       "  <thead>\n",
       "    <tr style=\"text-align: right;\">\n",
       "      <th></th>\n",
       "      <th></th>\n",
       "      <th>accumulated_cases</th>\n",
       "      <th>accumulated_recoveries</th>\n",
       "      <th>accumulated_tested</th>\n",
       "      <th>active_cases</th>\n",
       "      <th>population</th>\n",
       "      <th>median age</th>\n",
       "      <th>weighted_mean_poverty</th>\n",
       "      <th>prevalence</th>\n",
       "      <th>new_cases</th>\n",
       "      <th>new_tests</th>\n",
       "      <th>positivity_rate</th>\n",
       "    </tr>\n",
       "    <tr>\n",
       "      <th>date</th>\n",
       "      <th>250_regions</th>\n",
       "      <th></th>\n",
       "      <th></th>\n",
       "      <th></th>\n",
       "      <th></th>\n",
       "      <th></th>\n",
       "      <th></th>\n",
       "      <th></th>\n",
       "      <th></th>\n",
       "      <th></th>\n",
       "      <th></th>\n",
       "      <th></th>\n",
       "    </tr>\n",
       "  </thead>\n",
       "  <tbody>\n",
       "    <tr>\n",
       "      <th rowspan=\"2\" valign=\"top\">2020-04-06</th>\n",
       "      <th>11.0</th>\n",
       "      <td>36.0</td>\n",
       "      <td>15.0</td>\n",
       "      <td>343.0</td>\n",
       "      <td>20.0</td>\n",
       "      <td>44896.0</td>\n",
       "      <td>25.0</td>\n",
       "      <td>2.0</td>\n",
       "      <td>0.000445</td>\n",
       "      <td>0.0</td>\n",
       "      <td>0.0</td>\n",
       "      <td>0.0</td>\n",
       "    </tr>\n",
       "    <tr>\n",
       "      <th>43.0</th>\n",
       "      <td>51.0</td>\n",
       "      <td>15.0</td>\n",
       "      <td>469.0</td>\n",
       "      <td>36.0</td>\n",
       "      <td>63694.0</td>\n",
       "      <td>24.5</td>\n",
       "      <td>7.0</td>\n",
       "      <td>0.000565</td>\n",
       "      <td>0.0</td>\n",
       "      <td>0.0</td>\n",
       "      <td>0.0</td>\n",
       "    </tr>\n",
       "    <tr>\n",
       "      <th rowspan=\"3\" valign=\"top\">2020-04-07</th>\n",
       "      <th>11.0</th>\n",
       "      <td>36.0</td>\n",
       "      <td>16.0</td>\n",
       "      <td>346.0</td>\n",
       "      <td>19.0</td>\n",
       "      <td>44896.0</td>\n",
       "      <td>25.0</td>\n",
       "      <td>2.0</td>\n",
       "      <td>0.000423</td>\n",
       "      <td>0.0</td>\n",
       "      <td>3.0</td>\n",
       "      <td>0.0</td>\n",
       "    </tr>\n",
       "    <tr>\n",
       "      <th>43.0</th>\n",
       "      <td>51.0</td>\n",
       "      <td>17.0</td>\n",
       "      <td>473.0</td>\n",
       "      <td>34.0</td>\n",
       "      <td>63694.0</td>\n",
       "      <td>24.5</td>\n",
       "      <td>7.0</td>\n",
       "      <td>0.000534</td>\n",
       "      <td>0.0</td>\n",
       "      <td>4.0</td>\n",
       "      <td>0.0</td>\n",
       "    </tr>\n",
       "    <tr>\n",
       "      <th>71.0</th>\n",
       "      <td>355.0</td>\n",
       "      <td>96.0</td>\n",
       "      <td>3386.0</td>\n",
       "      <td>259.0</td>\n",
       "      <td>44752.0</td>\n",
       "      <td>19.0</td>\n",
       "      <td>2.0</td>\n",
       "      <td>0.005787</td>\n",
       "      <td>0.0</td>\n",
       "      <td>0.0</td>\n",
       "      <td>0.0</td>\n",
       "    </tr>\n",
       "  </tbody>\n",
       "</table>\n",
       "</div>"
      ],
      "text/plain": [
       "                        accumulated_cases  accumulated_recoveries  \\\n",
       "date       250_regions                                              \n",
       "2020-04-06 11.0                      36.0                    15.0   \n",
       "           43.0                      51.0                    15.0   \n",
       "2020-04-07 11.0                      36.0                    16.0   \n",
       "           43.0                      51.0                    17.0   \n",
       "           71.0                     355.0                    96.0   \n",
       "\n",
       "                        accumulated_tested  active_cases  population  \\\n",
       "date       250_regions                                                 \n",
       "2020-04-06 11.0                      343.0          20.0     44896.0   \n",
       "           43.0                      469.0          36.0     63694.0   \n",
       "2020-04-07 11.0                      346.0          19.0     44896.0   \n",
       "           43.0                      473.0          34.0     63694.0   \n",
       "           71.0                     3386.0         259.0     44752.0   \n",
       "\n",
       "                        median age  weighted_mean_poverty  prevalence  \\\n",
       "date       250_regions                                                  \n",
       "2020-04-06 11.0               25.0                    2.0    0.000445   \n",
       "           43.0               24.5                    7.0    0.000565   \n",
       "2020-04-07 11.0               25.0                    2.0    0.000423   \n",
       "           43.0               24.5                    7.0    0.000534   \n",
       "           71.0               19.0                    2.0    0.005787   \n",
       "\n",
       "                        new_cases  new_tests  positivity_rate  \n",
       "date       250_regions                                         \n",
       "2020-04-06 11.0               0.0        0.0              0.0  \n",
       "           43.0               0.0        0.0              0.0  \n",
       "2020-04-07 11.0               0.0        3.0              0.0  \n",
       "           43.0               0.0        4.0              0.0  \n",
       "           71.0               0.0        0.0              0.0  "
      ]
     },
     "execution_count": 19,
     "metadata": {},
     "output_type": "execute_result"
    }
   ],
   "source": [
    "results1.head()"
   ]
  },
  {
   "cell_type": "code",
   "execution_count": 20,
   "metadata": {},
   "outputs": [],
   "source": [
    "dates = list(set(results[\"date\"].values))\n",
    "\n",
    "dates.sort()"
   ]
  },
  {
   "cell_type": "code",
   "execution_count": 21,
   "metadata": {},
   "outputs": [],
   "source": [
    "dateToActiveCasesVector = dict()"
   ]
  },
  {
   "cell_type": "code",
   "execution_count": 22,
   "metadata": {},
   "outputs": [
    {
     "name": "stdout",
     "output_type": "stream",
     "text": [
      "[11.0, 21.0, 22.0, 23.0, 24.0, 29.0, 31.0, 32.0, 41.0, 42.0, 43.0, 44.0, 51.0, 61.0, 62.0, 71.0]\n"
     ]
    }
   ],
   "source": [
    "subdistricts = list(set(results[\"250_regions\"]))\n",
    "\n",
    "subdistricts.sort()\n",
    "\n",
    "print(subdistricts)"
   ]
  },
  {
   "cell_type": "code",
   "execution_count": 23,
   "metadata": {},
   "outputs": [
    {
     "data": {
      "text/plain": [
       "accumulated_cases            51.000000\n",
       "accumulated_recoveries       15.000000\n",
       "accumulated_tested          469.000000\n",
       "active_cases                 36.000000\n",
       "population                63694.000000\n",
       "median age                   24.500000\n",
       "weighted_mean_poverty         7.000000\n",
       "prevalence                    0.000565\n",
       "new_cases                     0.000000\n",
       "new_tests                     0.000000\n",
       "positivity_rate               0.000000\n",
       "Name: (2020-04-06 00:00:00, 43.0), dtype: float64"
      ]
     },
     "execution_count": 23,
     "metadata": {},
     "output_type": "execute_result"
    }
   ],
   "source": [
    "results1.loc[('2020-04-06',43.0)]"
   ]
  },
  {
   "cell_type": "code",
   "execution_count": 24,
   "metadata": {},
   "outputs": [
    {
     "name": "stdout",
     "output_type": "stream",
     "text": [
      "Active cases vectors generated in 1.058 s\n"
     ]
    }
   ],
   "source": [
    "start = time.time()\n",
    "for date in dates:\n",
    "    active_cases_vector = np.zeros((72,))\n",
    "    for region in subdistricts:\n",
    "        try:\n",
    "            active_cases_vector[int(region)] = results1.loc[(date,region)][\"prevalence\"]\n",
    "        except:\n",
    "            pass\n",
    "    #print(date)\n",
    "    #print(sum(active_cases_vector))\n",
    "    dateToActiveCasesVector[date] = active_cases_vector\n",
    "    \n",
    "end = time.time()\n",
    "print(\"Active cases vectors generated in %.3f s\" % (end-start))"
   ]
  },
  {
   "cell_type": "code",
   "execution_count": 25,
   "metadata": {},
   "outputs": [
    {
     "data": {
      "text/plain": [
       "array([0.        , 0.        , 0.        , 0.        , 0.        ,\n",
       "       0.        , 0.        , 0.        , 0.        , 0.        ,\n",
       "       0.        , 0.00419019, 0.        , 0.        , 0.        ,\n",
       "       0.        , 0.        , 0.        , 0.        , 0.        ,\n",
       "       0.        , 0.00079013, 0.00070536, 0.00253177, 0.00245665,\n",
       "       0.        , 0.        , 0.        , 0.        , 0.00384592,\n",
       "       0.        , 0.00183529, 0.00142662, 0.        , 0.        ,\n",
       "       0.        , 0.        , 0.        , 0.        , 0.        ,\n",
       "       0.        , 0.00130187, 0.00144043, 0.002862  , 0.00121403,\n",
       "       0.        , 0.        , 0.        , 0.        , 0.        ,\n",
       "       0.        , 0.00114106, 0.        , 0.        , 0.        ,\n",
       "       0.        , 0.        , 0.        , 0.        , 0.        ,\n",
       "       0.        , 0.00104511, 0.00136122, 0.        , 0.        ,\n",
       "       0.        , 0.        , 0.        , 0.        , 0.        ,\n",
       "       0.        , 0.00414915])"
      ]
     },
     "execution_count": 25,
     "metadata": {},
     "output_type": "execute_result"
    }
   ],
   "source": [
    "dateToActiveCasesVector[np.datetime64('2020-12-01T00:00:00.000000000')]"
   ]
  },
  {
   "cell_type": "code",
   "execution_count": 26,
   "metadata": {},
   "outputs": [],
   "source": [
    "def string_date_to_datetime(string_date):\n",
    "    return np.datetime64('%sT00:00:00.000000000' % (string_date))\n",
    "\n",
    "def datetime_to_str(dt):\n",
    "    return dt.strftime('%Y-%m-%d')\n",
    "#dateToActiveCasesVector[string_date_to_datetime('2020-12-01')]"
   ]
  },
  {
   "cell_type": "code",
   "execution_count": 27,
   "metadata": {},
   "outputs": [],
   "source": [
    "with open('../OtherData/ActiveCasesVector_%s.pkl' % (file_suffix), 'wb') as handle:\n",
    "    pickle.dump(dateToActiveCasesVector, handle, protocol=pickle.HIGHEST_PROTOCOL)"
   ]
  },
  {
   "cell_type": "code",
   "execution_count": 28,
   "metadata": {},
   "outputs": [],
   "source": [
    "with open('../OtherData/ActiveCasesVector_%s.pkl' % (file_suffix), 'rb') as handle:\n",
    "    b = pickle.load(handle)"
   ]
  },
  {
   "cell_type": "markdown",
   "metadata": {},
   "source": [
    "# Create OD Matrix (if necessary)"
   ]
  },
  {
   "cell_type": "code",
   "execution_count": 29,
   "metadata": {},
   "outputs": [],
   "source": [
    "od_df1 = od_df.set_index([\"Date\", \"origin_250id\", \"dest_250id\"])"
   ]
  },
  {
   "cell_type": "code",
   "execution_count": 30,
   "metadata": {},
   "outputs": [
    {
     "data": {
      "text/html": [
       "<div>\n",
       "<style scoped>\n",
       "    .dataframe tbody tr th:only-of-type {\n",
       "        vertical-align: middle;\n",
       "    }\n",
       "\n",
       "    .dataframe tbody tr th {\n",
       "        vertical-align: top;\n",
       "    }\n",
       "\n",
       "    .dataframe thead th {\n",
       "        text-align: right;\n",
       "    }\n",
       "</style>\n",
       "<table border=\"1\" class=\"dataframe\">\n",
       "  <thead>\n",
       "    <tr style=\"text-align: right;\">\n",
       "      <th></th>\n",
       "      <th>Date</th>\n",
       "      <th>origin_250id</th>\n",
       "      <th>dest_250id</th>\n",
       "      <th>Trips</th>\n",
       "      <th>moving_7</th>\n",
       "      <th>moving_3</th>\n",
       "    </tr>\n",
       "  </thead>\n",
       "  <tbody>\n",
       "    <tr>\n",
       "      <th>0</th>\n",
       "      <td>2020-02-01</td>\n",
       "      <td>2000001.0</td>\n",
       "      <td>2000001.0</td>\n",
       "      <td>3659.0</td>\n",
       "      <td>3659.0</td>\n",
       "      <td>3659.0</td>\n",
       "    </tr>\n",
       "    <tr>\n",
       "      <th>1</th>\n",
       "      <td>2020-02-01</td>\n",
       "      <td>2000001.0</td>\n",
       "      <td>2000002.0</td>\n",
       "      <td>1235.0</td>\n",
       "      <td>1235.0</td>\n",
       "      <td>1235.0</td>\n",
       "    </tr>\n",
       "    <tr>\n",
       "      <th>2</th>\n",
       "      <td>2020-02-01</td>\n",
       "      <td>2000001.0</td>\n",
       "      <td>2000003.0</td>\n",
       "      <td>692.0</td>\n",
       "      <td>692.0</td>\n",
       "      <td>692.0</td>\n",
       "    </tr>\n",
       "    <tr>\n",
       "      <th>3</th>\n",
       "      <td>2020-02-01</td>\n",
       "      <td>2000001.0</td>\n",
       "      <td>2000004.0</td>\n",
       "      <td>1594.0</td>\n",
       "      <td>1594.0</td>\n",
       "      <td>1594.0</td>\n",
       "    </tr>\n",
       "    <tr>\n",
       "      <th>4</th>\n",
       "      <td>2020-02-01</td>\n",
       "      <td>2000001.0</td>\n",
       "      <td>2000005.0</td>\n",
       "      <td>634.0</td>\n",
       "      <td>634.0</td>\n",
       "      <td>634.0</td>\n",
       "    </tr>\n",
       "  </tbody>\n",
       "</table>\n",
       "</div>"
      ],
      "text/plain": [
       "        Date  origin_250id  dest_250id   Trips  moving_7  moving_3\n",
       "0 2020-02-01     2000001.0   2000001.0  3659.0    3659.0    3659.0\n",
       "1 2020-02-01     2000001.0   2000002.0  1235.0    1235.0    1235.0\n",
       "2 2020-02-01     2000001.0   2000003.0   692.0     692.0     692.0\n",
       "3 2020-02-01     2000001.0   2000004.0  1594.0    1594.0    1594.0\n",
       "4 2020-02-01     2000001.0   2000005.0   634.0     634.0     634.0"
      ]
     },
     "execution_count": 30,
     "metadata": {},
     "output_type": "execute_result"
    }
   ],
   "source": [
    "od_df.head()"
   ]
  },
  {
   "cell_type": "code",
   "execution_count": 31,
   "metadata": {},
   "outputs": [],
   "source": [
    "od_df = od_df.replace({\"origin_250id\": a250_to_16})\n",
    "od_df = od_df.replace({\"dest_250id\": a250_to_16})\n",
    "od_df['Date'] = pd.to_datetime(od_df[\"Date\"], dayfirst=True)"
   ]
  },
  {
   "cell_type": "code",
   "execution_count": 32,
   "metadata": {},
   "outputs": [],
   "source": [
    "od_dates = list(set(od_df[\"Date\"].values))\n",
    "od_dates.sort()"
   ]
  },
  {
   "cell_type": "code",
   "execution_count": 33,
   "metadata": {},
   "outputs": [],
   "source": [
    "od_df1 = od_df.groupby(['Date', 'origin_250id', 'dest_250id']).sum()[[\"Trips\"]]\n",
    "od_df1 = od_df1.reset_index()"
   ]
  },
  {
   "cell_type": "code",
   "execution_count": 34,
   "metadata": {},
   "outputs": [],
   "source": [
    "od_df1 = od_df1.set_index([\"Date\", \"origin_250id\", \"dest_250id\"])"
   ]
  },
  {
   "cell_type": "code",
   "execution_count": 35,
   "metadata": {},
   "outputs": [
    {
     "data": {
      "text/html": [
       "<div>\n",
       "<style scoped>\n",
       "    .dataframe tbody tr th:only-of-type {\n",
       "        vertical-align: middle;\n",
       "    }\n",
       "\n",
       "    .dataframe tbody tr th {\n",
       "        vertical-align: top;\n",
       "    }\n",
       "\n",
       "    .dataframe thead th {\n",
       "        text-align: right;\n",
       "    }\n",
       "</style>\n",
       "<table border=\"1\" class=\"dataframe\">\n",
       "  <thead>\n",
       "    <tr style=\"text-align: right;\">\n",
       "      <th></th>\n",
       "      <th></th>\n",
       "      <th></th>\n",
       "      <th>Trips</th>\n",
       "    </tr>\n",
       "    <tr>\n",
       "      <th>Date</th>\n",
       "      <th>origin_250id</th>\n",
       "      <th>dest_250id</th>\n",
       "      <th></th>\n",
       "    </tr>\n",
       "  </thead>\n",
       "  <tbody>\n",
       "    <tr>\n",
       "      <th rowspan=\"5\" valign=\"top\">2020-02-01</th>\n",
       "      <th rowspan=\"5\" valign=\"top\">11.0</th>\n",
       "      <th>11.0</th>\n",
       "      <td>447711.0</td>\n",
       "    </tr>\n",
       "    <tr>\n",
       "      <th>21.0</th>\n",
       "      <td>42.0</td>\n",
       "    </tr>\n",
       "    <tr>\n",
       "      <th>22.0</th>\n",
       "      <td>147.0</td>\n",
       "    </tr>\n",
       "    <tr>\n",
       "      <th>23.0</th>\n",
       "      <td>566.0</td>\n",
       "    </tr>\n",
       "    <tr>\n",
       "      <th>24.0</th>\n",
       "      <td>519.0</td>\n",
       "    </tr>\n",
       "  </tbody>\n",
       "</table>\n",
       "</div>"
      ],
      "text/plain": [
       "                                       Trips\n",
       "Date       origin_250id dest_250id          \n",
       "2020-02-01 11.0         11.0        447711.0\n",
       "                        21.0            42.0\n",
       "                        22.0           147.0\n",
       "                        23.0           566.0\n",
       "                        24.0           519.0"
      ]
     },
     "execution_count": 35,
     "metadata": {},
     "output_type": "execute_result"
    }
   ],
   "source": [
    "od_df1.head()"
   ]
  },
  {
   "cell_type": "code",
   "execution_count": 37,
   "metadata": {},
   "outputs": [
    {
     "data": {
      "text/plain": [
       "844421.0"
      ]
     },
     "execution_count": 37,
     "metadata": {},
     "output_type": "execute_result"
    }
   ],
   "source": [
    "od_df1.loc[(string_date_to_datetime('2020-07-01'),11,11),\"Trips\"]"
   ]
  },
  {
   "cell_type": "code",
   "execution_count": 38,
   "metadata": {},
   "outputs": [
    {
     "name": "stdout",
     "output_type": "stream",
     "text": [
      "Daily OD Matrix generated in 19.979 s\n"
     ]
    }
   ],
   "source": [
    "dateToODMatrix = dict()\n",
    "start = time.time()\n",
    "for date in od_dates:\n",
    "    od_matrix = np.zeros((72, 72))\n",
    "    for origin_region in subdistricts:\n",
    "        for dest_region in subdistricts:\n",
    "            try: \n",
    "                od_matrix[int(origin_region)][int(dest_region)] = od_df1.loc[(date,origin_region,dest_region),\"Trips\"]\n",
    "            except KeyError:\n",
    "                pass\n",
    "    dateToODMatrix[date] = od_matrix\n",
    "    \n",
    "end = time.time()\n",
    "print(\"Daily OD Matrix generated in %.3f s\" % (end-start))"
   ]
  },
  {
   "cell_type": "code",
   "execution_count": 39,
   "metadata": {},
   "outputs": [],
   "source": [
    "with open('../OtherData/DailyODMatrix_%s.pkl' % (file_suffix), 'wb') as handle:\n",
    "    pickle.dump(dateToODMatrix, handle, protocol=pickle.HIGHEST_PROTOCOL)"
   ]
  },
  {
   "cell_type": "code",
   "execution_count": 40,
   "metadata": {},
   "outputs": [],
   "source": [
    "with open('../OtherData/DailyODMatrix_%s.pkl' % (file_suffix), 'rb') as handle:\n",
    "    c = pickle.load(handle)"
   ]
  },
  {
   "cell_type": "code",
   "execution_count": 41,
   "metadata": {},
   "outputs": [
    {
     "data": {
      "text/plain": [
       "844421.0"
      ]
     },
     "execution_count": 41,
     "metadata": {},
     "output_type": "execute_result"
    }
   ],
   "source": [
    "c[string_date_to_datetime('2020-07-01')][11][11]"
   ]
  },
  {
   "cell_type": "code",
   "execution_count": 42,
   "metadata": {},
   "outputs": [],
   "source": [
    "# od data with dec as a repetition of nov\n",
    "#plt.figure(figsize=(15,6))\n",
    "#plt.plot(x, y)\n",
    "#plt.show()"
   ]
  },
  {
   "cell_type": "code",
   "execution_count": 43,
   "metadata": {},
   "outputs": [],
   "source": [
    "# get values from c (daily od matrix)\n",
    "\n",
    "def c2(string_dt):\n",
    "    return c[string_date_to_datetime(string_dt)]"
   ]
  },
  {
   "cell_type": "code",
   "execution_count": 44,
   "metadata": {},
   "outputs": [
    {
     "data": {
      "text/plain": [
       "844421.0"
      ]
     },
     "execution_count": 44,
     "metadata": {},
     "output_type": "execute_result"
    }
   ],
   "source": [
    "c2('2020-07-01')[11][11]"
   ]
  },
  {
   "cell_type": "markdown",
   "metadata": {},
   "source": [
    "Dec 1 (Tuesday) - Dec 7 (Monday)\n",
    "+ Model after November 24 (Tuesday) - November 30 (Monday)\n",
    "+ Add noise both above and below November levels. The lockdown guidelines were the same.\n",
    "\n",
    "December 8 (Tuesday) - December 26 (Saturday)\n",
    "+ Similar to September 1 (Tuesday)  - September 14 (Monday) in terms of guidelines, but similar to July mobility \n",
    "+ Therefore, for this set of dates, average with July mobility levels\n",
    "Thursday: July 1, 8, 15, 22, 29, September 3, 10\n",
    "Friday: 2, 9, 16, 23, 30, September 4, 11\n",
    "Saturday: 3, 10, 17, 24, 31, September 5, 12\n",
    "Sunday: 4, 11, 18, 25, September 6, 13\n",
    "Monday: 5, 12, 19, 26, September 7, 14\n",
    "Tuesday: 6, 13, 20, 27, September 1, 8\n",
    "Wednesday: 7, 14, 21, 28, September 2, 9\n",
    "+ Add noise both above and below July levels\n",
    "\n",
    "December 27 (Sunday) - January 7 (Thurs)\n",
    "+ Model after September 20 (Sunday) (18-Fri) - September 24 (Thurs)\n",
    "+ Add positive noise. While the guidelines were mostly the same, mobility  in December was higher because schools were open.\n",
    "\n",
    "\n",
    "January 8 (Friday) - February 5 (Friday)\n",
    "+ Model after September 25 (Friday) - October 11 (Sunday)\n",
    "\n",
    "February 6 (Saturday) - Feb 20 (Saturday)\n",
    "+ Model after October 18 (Sun) - October 24 (Sat)\n",
    "\n",
    "Feb 21 (Sunday) onwards: similar to December (12/20) and thus July"
   ]
  },
  {
   "cell_type": "code",
   "execution_count": 45,
   "metadata": {},
   "outputs": [],
   "source": [
    "def perturb_10pct(value):\n",
    "    return np.array(value + np.random.normal(loc=0, scale=value*0.25)).clip(0)\n",
    "\n",
    "def perturb_10pct_onlypos(value):\n",
    "    return np.array(value + abs(np.random.normal(loc=0, scale=value*0.25))).clip(0)"
   ]
  },
  {
   "cell_type": "code",
   "execution_count": 46,
   "metadata": {},
   "outputs": [],
   "source": [
    "# day of week, \n",
    "# starting with thursday = 0\n",
    "# fri = 1\n",
    "# sat = 2\n",
    "# sun = 3\n",
    "# mon = 4\n",
    "# tues = 5\n",
    "# weds = 6\n",
    "july_baseline = dict()\n",
    "\n",
    "july_baseline[0] = (c2('2020-07-01') + c2('2020-07-08') + c2('2020-07-15') + c2('2020-07-22') + c2('2020-07-29')) / 5\n",
    "july_baseline[1] = (c2('2020-07-02') + c2('2020-07-09') + c2('2020-07-16') + c2('2020-07-23') + c2('2020-07-30')) / 5\n",
    "july_baseline[2] = (c2('2020-07-03') + c2('2020-07-10') + c2('2020-07-17') + c2('2020-07-24') + c2('2020-07-31')) / 5\n",
    "july_baseline[3] = (c2('2020-07-04') + c2('2020-07-11') + c2('2020-07-18') + c2('2020-07-25')) / 4\n",
    "july_baseline[4] = (c2('2020-07-05') + c2('2020-07-12') + c2('2020-07-19') + c2('2020-07-26')) / 4\n",
    "july_baseline[5] = (c2('2020-07-06') + c2('2020-07-13') + c2('2020-07-20') + c2('2020-07-27')) / 4\n",
    "july_baseline[6] = (c2('2020-07-07') + c2('2020-07-14') + c2('2020-07-21') + c2('2020-07-28')) / 4"
   ]
  },
  {
   "cell_type": "code",
   "execution_count": 47,
   "metadata": {},
   "outputs": [],
   "source": [
    "np.random.seed(0)\n",
    "\n",
    "c[string_date_to_datetime('2020-12-01')] = perturb_10pct(c2('2020-11-24'))\n",
    "c[string_date_to_datetime('2020-12-02')] = perturb_10pct(c2('2020-11-25'))\n",
    "c[string_date_to_datetime('2020-12-03')] = perturb_10pct(c2('2020-11-26'))\n",
    "c[string_date_to_datetime('2020-12-04')] = perturb_10pct(c2('2020-11-27'))\n",
    "c[string_date_to_datetime('2020-12-05')] = perturb_10pct(c2('2020-11-28'))\n",
    "c[string_date_to_datetime('2020-12-06')] = perturb_10pct(c2('2020-11-29'))\n",
    "c[string_date_to_datetime('2020-12-07')] = perturb_10pct(c2('2020-11-30'))\n",
    "\n",
    "date1 = datetime.date(2020, 12, 8)\n",
    "date2 = datetime.date(2020, 12, 26)\n",
    "day = datetime.timedelta(days=1)\n",
    "\n",
    "day_of_week = 5\n",
    "while date1 <= date2:\n",
    "    c[string_date_to_datetime(datetime_to_str(date1))] = perturb_10pct(july_baseline[day_of_week])\n",
    "    \n",
    "    day_of_week = day_of_week + 1\n",
    "    if day_of_week == 7:\n",
    "        day_of_week = 0\n",
    "    date1 = date1 + day\n",
    "    \n",
    "    \n",
    "c[string_date_to_datetime('2020-12-27')] = perturb_10pct_onlypos(c2('2020-09-20'))\n",
    "c[string_date_to_datetime('2020-12-28')] = perturb_10pct_onlypos(c2('2020-09-21'))\n",
    "c[string_date_to_datetime('2020-12-29')] = perturb_10pct_onlypos(c2('2020-09-22'))\n",
    "c[string_date_to_datetime('2020-12-30')] = perturb_10pct_onlypos(c2('2020-09-23'))\n",
    "c[string_date_to_datetime('2020-12-31')] = perturb_10pct_onlypos(c2('2020-09-24'))\n",
    "c[string_date_to_datetime('2021-01-01')] = perturb_10pct_onlypos(c2('2020-09-18'))\n",
    "c[string_date_to_datetime('2021-01-02')] = perturb_10pct_onlypos(c2('2020-09-19'))\n",
    "c[string_date_to_datetime('2021-01-03')] = perturb_10pct_onlypos(c2('2020-09-20'))\n",
    "c[string_date_to_datetime('2021-01-04')] = perturb_10pct_onlypos(c2('2020-09-21'))\n",
    "c[string_date_to_datetime('2021-01-05')] = perturb_10pct_onlypos(c2('2020-09-22'))\n",
    "c[string_date_to_datetime('2021-01-06')] = perturb_10pct_onlypos(c2('2020-09-23'))\n",
    "c[string_date_to_datetime('2021-01-07')] = perturb_10pct_onlypos(c2('2020-09-24'))"
   ]
  },
  {
   "cell_type": "code",
   "execution_count": 48,
   "metadata": {},
   "outputs": [],
   "source": [
    "\n",
    "c[string_date_to_datetime('2021-01-08')] = perturb_10pct(c2('2020-09-25'))\n",
    "c[string_date_to_datetime('2021-01-09')] = perturb_10pct(c2('2020-09-26'))\n",
    "c[string_date_to_datetime('2021-01-10')] = perturb_10pct(c2('2020-09-27'))\n",
    "c[string_date_to_datetime('2021-01-11')] = perturb_10pct(c2('2020-09-28'))\n",
    "c[string_date_to_datetime('2021-01-12')] = perturb_10pct(c2('2020-09-29'))\n",
    "c[string_date_to_datetime('2021-01-13')] = perturb_10pct(c2('2020-09-30'))\n",
    "c[string_date_to_datetime('2021-01-14')] = perturb_10pct(c2('2020-10-01'))\n",
    "c[string_date_to_datetime('2021-01-15')] = perturb_10pct(c2('2020-10-02'))\n",
    "c[string_date_to_datetime('2021-01-16')] = perturb_10pct(c2('2020-10-03'))\n",
    "c[string_date_to_datetime('2021-01-17')] = perturb_10pct(c2('2020-10-04'))\n",
    "c[string_date_to_datetime('2021-01-18')] = perturb_10pct(c2('2020-10-05'))\n",
    "c[string_date_to_datetime('2021-01-19')] = perturb_10pct(c2('2020-10-06'))\n",
    "c[string_date_to_datetime('2021-01-20')] = perturb_10pct(c2('2020-10-07'))\n",
    "c[string_date_to_datetime('2021-01-21')] = perturb_10pct(c2('2020-10-08'))\n",
    "c[string_date_to_datetime('2021-01-22')] = perturb_10pct(c2('2020-09-25'))\n",
    "c[string_date_to_datetime('2021-01-23')] = perturb_10pct(c2('2020-09-26'))\n",
    "c[string_date_to_datetime('2021-01-24')] = perturb_10pct(c2('2020-09-27'))\n",
    "c[string_date_to_datetime('2021-01-25')] = perturb_10pct(c2('2020-09-28'))\n",
    "c[string_date_to_datetime('2021-01-26')] = perturb_10pct(c2('2020-09-29'))\n",
    "c[string_date_to_datetime('2021-01-27')] = perturb_10pct(c2('2020-09-30'))\n",
    "c[string_date_to_datetime('2021-01-28')] = perturb_10pct(c2('2020-10-01'))\n",
    "c[string_date_to_datetime('2021-01-29')] = perturb_10pct(c2('2020-10-02'))\n",
    "c[string_date_to_datetime('2021-01-30')] = perturb_10pct(c2('2020-10-03'))\n",
    "c[string_date_to_datetime('2021-01-31')] = perturb_10pct(c2('2020-10-04'))\n",
    "c[string_date_to_datetime('2021-02-01')] = perturb_10pct(c2('2020-10-05'))\n",
    "c[string_date_to_datetime('2021-02-02')] = perturb_10pct(c2('2020-10-06'))\n",
    "c[string_date_to_datetime('2021-02-03')] = perturb_10pct(c2('2020-10-07'))\n",
    "c[string_date_to_datetime('2021-02-04')] = perturb_10pct(c2('2020-10-08'))\n",
    "c[string_date_to_datetime('2021-02-05')] = perturb_10pct(c2('2020-10-09'))\n",
    "\n",
    "c[string_date_to_datetime('2021-02-06')] = perturb_10pct(c2('2020-10-24'))\n",
    "c[string_date_to_datetime('2021-02-07')] = perturb_10pct(c2('2020-10-18'))\n",
    "c[string_date_to_datetime('2021-02-08')] = perturb_10pct(c2('2020-10-19'))\n",
    "c[string_date_to_datetime('2021-02-09')] = perturb_10pct(c2('2020-10-20'))\n",
    "c[string_date_to_datetime('2021-02-10')] = perturb_10pct(c2('2020-10-21'))\n",
    "c[string_date_to_datetime('2021-02-11')] = perturb_10pct(c2('2020-10-22'))\n",
    "c[string_date_to_datetime('2021-02-12')] = perturb_10pct(c2('2020-10-23'))\n",
    "c[string_date_to_datetime('2021-02-13')] = perturb_10pct(c2('2020-10-24'))\n",
    "c[string_date_to_datetime('2021-02-14')] = perturb_10pct(c2('2020-10-18'))\n",
    "c[string_date_to_datetime('2021-02-15')] = perturb_10pct(c2('2020-10-19'))\n",
    "c[string_date_to_datetime('2021-02-16')] = perturb_10pct(c2('2020-10-20'))\n",
    "c[string_date_to_datetime('2021-02-17')] = perturb_10pct(c2('2020-10-21'))\n",
    "c[string_date_to_datetime('2021-02-18')] = perturb_10pct(c2('2020-10-22'))\n",
    "c[string_date_to_datetime('2021-02-19')] = perturb_10pct(c2('2020-10-23'))\n",
    "c[string_date_to_datetime('2021-02-20')] = perturb_10pct(c2('2020-10-24'))\n",
    "\n",
    "c[string_date_to_datetime('2021-02-21')] = perturb_10pct_onlypos(c2('2020-12-20'))\n",
    "c[string_date_to_datetime('2021-02-22')] = perturb_10pct_onlypos(c2('2020-12-21'))\n",
    "c[string_date_to_datetime('2021-02-23')] = perturb_10pct_onlypos(c2('2020-12-22'))\n",
    "c[string_date_to_datetime('2021-02-24')] = perturb_10pct_onlypos(c2('2020-12-23'))\n",
    "c[string_date_to_datetime('2021-02-25')] = perturb_10pct_onlypos(c2('2020-12-24'))\n",
    "c[string_date_to_datetime('2021-02-26')] = perturb_10pct_onlypos(c2('2020-12-25'))\n",
    "c[string_date_to_datetime('2021-02-27')] = perturb_10pct_onlypos(c2('2020-12-26'))"
   ]
  },
  {
   "cell_type": "code",
   "execution_count": 49,
   "metadata": {},
   "outputs": [],
   "source": [
    "with open('../OtherData/DailyODMatrixWithFakeDecember_%s.pkl' % (file_suffix), 'wb') as handle:\n",
    "    pickle.dump(c, handle, protocol=pickle.HIGHEST_PROTOCOL)"
   ]
  },
  {
   "cell_type": "code",
   "execution_count": 50,
   "metadata": {},
   "outputs": [],
   "source": [
    "x = list(c.keys())\n",
    "y = [c[i][11][21] for i in x]"
   ]
  },
  {
   "cell_type": "code",
   "execution_count": 51,
   "metadata": {},
   "outputs": [
    {
     "data": {
      "text/plain": [
       "844421.0"
      ]
     },
     "execution_count": 51,
     "metadata": {},
     "output_type": "execute_result"
    }
   ],
   "source": [
    "c2('2020-07-01')[11][11]"
   ]
  },
  {
   "cell_type": "code",
   "execution_count": 52,
   "metadata": {},
   "outputs": [
    {
     "data": {
      "image/png": "[encoded data removed]",
      "text/plain": [
       "<Figure size 1080x432 with 1 Axes>"
      ]
     },
     "metadata": {},
     "output_type": "display_data"
    }
   ],
   "source": [
    "plt.figure(figsize=(15,6))\n",
    "plt.axvline(x[-89], color='orange')\n",
    "plt.plot(x, y)\n",
    "plt.show()"
   ]
  },
  {
   "cell_type": "markdown",
   "metadata": {},
   "source": [
    "# Create Excess OD Matrix"
   ]
  },
  {
   "cell_type": "code",
   "execution_count": 53,
   "metadata": {},
   "outputs": [],
   "source": [
    "# day of week, \n",
    "# starting with saturday = 0\n",
    "# sunday = 1\n",
    "# monday = 2\n",
    "# tuesday = 3\n",
    "# weds = 4\n",
    "# thurs = 5\n",
    "# fri = 6\n",
    "\n",
    "day_to_od_baseline = dict()\n",
    "\n",
    "day_to_od_baseline[0] = (c2('2020-02-01') + c2('2020-02-08') + c2('2020-02-15') + c2('2020-02-22')) / 4\n",
    "day_to_od_baseline[1] = (c2('2020-02-02') + c2('2020-02-09') + c2('2020-02-16') + c2('2020-02-23')) / 4\n",
    "day_to_od_baseline[2] = (c2('2020-02-03') + c2('2020-02-10') + c2('2020-02-17') + c2('2020-02-24')) / 4\n",
    "day_to_od_baseline[3] = (c2('2020-02-04') + c2('2020-02-11') + c2('2020-02-18') + c2('2020-02-25')) / 4\n",
    "day_to_od_baseline[4] = (c2('2020-02-05') + c2('2020-02-12') + c2('2020-02-19') + c2('2020-02-26')) / 4\n",
    "day_to_od_baseline[5] = (c2('2020-02-06') + c2('2020-02-13') + c2('2020-02-20') + c2('2020-02-27')) / 4\n",
    "day_to_od_baseline[6] = (c2('2020-02-07') + c2('2020-02-14') + c2('2020-02-21') + c2('2020-02-28')) / 4"
   ]
  },
  {
   "cell_type": "code",
   "execution_count": 54,
   "metadata": {},
   "outputs": [],
   "source": [
    "date1 = datetime.date(2020, 2, 29)\n",
    "date2 = datetime.date(2021, 2, 27)\n",
    "day = datetime.timedelta(days=1)\n",
    "\n",
    "excess_od_matrix = dict()\n",
    "\n",
    "day_of_week = 0\n",
    "\n",
    "while date1 <= date2:\n",
    "    \n",
    "    excess_od_matrix[date1] = c2(date1) - day_to_od_baseline[day_of_week]\n",
    "    \n",
    "    date1 = date1 + day\n",
    "    \n",
    "    day_of_week = day_of_week + 1\n",
    "    if day_of_week == 7:\n",
    "        day_of_week = 0\n",
    "        \n",
    "with open('../OtherData/ExcessODMatrix_%s.pkl' % (file_suffix), 'wb') as handle:\n",
    "    pickle.dump(excess_od_matrix, handle, protocol=pickle.HIGHEST_PROTOCOL)"
   ]
  },
  {
   "cell_type": "code",
   "execution_count": 55,
   "metadata": {},
   "outputs": [
    {
     "data": {
      "text/plain": [
       "844421.0"
      ]
     },
     "execution_count": 55,
     "metadata": {},
     "output_type": "execute_result"
    }
   ],
   "source": [
    "c2('2020-07-01')[11][11]"
   ]
  },
  {
   "cell_type": "markdown",
   "metadata": {},
   "source": [
    "# Create mobility comparison to previous week"
   ]
  },
  {
   "cell_type": "code",
   "execution_count": 56,
   "metadata": {},
   "outputs": [],
   "source": [
    "date1 = datetime.date(2020, 2, 29)\n",
    "date2 = datetime.date(2021, 2, 27)\n",
    "day = datetime.timedelta(days=1)\n",
    "week = datetime.timedelta(days=7)\n",
    "\n",
    "diffed_od_matrix = dict()\n",
    "\n",
    "while date1 <= date2:\n",
    "    \n",
    "    diffed_od_matrix[date1] = c2(date1) - c2(date1 - week)\n",
    "    \n",
    "    date1 = date1 + day\n",
    "\n",
    "with open('../OtherData/DiffedODMatrix_%s.pkl' % (file_suffix), 'wb') as handle:\n",
    "    pickle.dump(diffed_od_matrix, handle, protocol=pickle.HIGHEST_PROTOCOL)"
   ]
  },
  {
   "cell_type": "code",
   "execution_count": 57,
   "metadata": {},
   "outputs": [
    {
     "data": {
      "text/plain": [
       "288.0"
      ]
     },
     "execution_count": 57,
     "metadata": {},
     "output_type": "execute_result"
    }
   ],
   "source": [
    "c2('2020-07-01')[11][21]"
   ]
  },
  {
   "cell_type": "markdown",
   "metadata": {},
   "source": [
    "# Create matrix of mobility comparisons"
   ]
  },
  {
   "cell_type": "code",
   "execution_count": 58,
   "metadata": {},
   "outputs": [],
   "source": [
    "dates = excess_od_matrix.keys()\n",
    "\n",
    "with open('../OtherData/DailyODMatrixWithFakeDecember_%s.pkl' % (file_suffix), 'rb') as handle:\n",
    "    c = pickle.load(handle)\n",
    "\n",
    "with open('../OtherData/ExcessODMatrix_%s.pkl' % (file_suffix), 'rb') as handle:\n",
    "    excess_od_matrix = pickle.load(handle)\n",
    "    \n",
    "with open('../OtherData/DiffedODMatrix_%s.pkl' % (file_suffix), 'rb') as handle:\n",
    "    diffed_od_matrix = pickle.load(handle)"
   ]
  },
  {
   "cell_type": "code",
   "execution_count": 59,
   "metadata": {},
   "outputs": [],
   "source": [
    "dates = excess_od_matrix.keys()"
   ]
  },
  {
   "cell_type": "code",
   "execution_count": 60,
   "metadata": {},
   "outputs": [],
   "source": [
    "day_to_exposed_outside_region = dict()\n",
    "day_to_exposed_inside_region = dict()\n",
    "\n",
    "day_to_exposed_outside_region_excess = dict()\n",
    "day_to_exposed_inside_region_excess = dict()\n",
    "\n",
    "day_to_exposed_outside_region_diff = dict()\n",
    "day_to_exposed_inside_region_diff = dict()\n",
    "\n",
    "for date in dates:\n",
    "    try:\n",
    "        incidence_vec = b[string_date_to_datetime(date)]\n",
    "        od_matrix_today = c2(date)\n",
    "        excess_od_matrix_today = excess_od_matrix[date]\n",
    "        diffed_od_matrix_today = diffed_od_matrix[date]\n",
    "\n",
    "        # Multiply the incidence vector by the OD matrix to get total cases today\n",
    "        day_to_exposed_inside_region[date] = np.transpose(incidence_vec) @ od_matrix_today\n",
    "        day_to_exposed_inside_region_excess[date] = np.transpose(incidence_vec) @ excess_od_matrix_today\n",
    "        day_to_exposed_inside_region_diff[date] = np.transpose(incidence_vec) @ diffed_od_matrix_today\n",
    "\n",
    "        # Remove internal cases from region A to region A\n",
    "        np.fill_diagonal(od_matrix_today, 0)\n",
    "        np.fill_diagonal(excess_od_matrix_today, 0)\n",
    "        np.fill_diagonal(diffed_od_matrix_today, 0)\n",
    "\n",
    "        # Compute external cases by multiplying the incidence vector by the OD matrix\n",
    "        day_to_exposed_outside_region[date] = np.transpose(incidence_vec) @ od_matrix_today\n",
    "        day_to_exposed_outside_region_excess[date] = np.transpose(incidence_vec) @ excess_od_matrix_today\n",
    "        day_to_exposed_outside_region_diff[date] = np.transpose(incidence_vec) @ diffed_od_matrix_today\n",
    "\n",
    "        # Subtract external cases from all cases to get internal cases\n",
    "        day_to_exposed_inside_region[date] = day_to_exposed_inside_region[date] - day_to_exposed_outside_region[date]\n",
    "        day_to_exposed_inside_region_excess[date] = day_to_exposed_inside_region_excess[date] - day_to_exposed_outside_region_excess[date]\n",
    "        day_to_exposed_inside_region_diff[date] = day_to_exposed_inside_region_diff[date] - day_to_exposed_outside_region_diff[date]\n",
    "    except:\n",
    "        pass"
   ]
  },
  {
   "cell_type": "code",
   "execution_count": 61,
   "metadata": {},
   "outputs": [
    {
     "data": {
      "text/plain": [
       "array([  0.        ,   0.        ,   0.        ,   0.        ,\n",
       "         0.        ,   0.        ,   0.        ,   0.        ,\n",
       "         0.        ,   0.        ,   0.        , 210.37385901,\n",
       "         0.        ,   0.        ,   0.        ,   0.        ,\n",
       "         0.        ,   0.        ,   0.        ,   0.        ,\n",
       "         0.        ,  11.63922565,  32.29140223,  96.34177693,\n",
       "       127.65644546,   0.        ,   0.        ,   0.        ,\n",
       "         0.        ,  12.29963337,   0.        ,  61.25128299,\n",
       "        89.12124285,   0.        ,   0.        ,   0.        ,\n",
       "         0.        ,   0.        ,   0.        ,   0.        ,\n",
       "         0.        ,  95.82366154, 191.48142215,  84.08875087,\n",
       "       157.2950059 ,   0.        ,   0.        ,   0.        ,\n",
       "         0.        ,   0.        ,   0.        , 184.30125541,\n",
       "         0.        ,   0.        ,   0.        ,   0.        ,\n",
       "         0.        ,   0.        ,   0.        ,   0.        ,\n",
       "         0.        ,  82.44221419,  44.56094894,   0.        ,\n",
       "         0.        ,   0.        ,   0.        ,   0.        ,\n",
       "         0.        ,   0.        ,   0.        , 183.62956763])"
      ]
     },
     "execution_count": 61,
     "metadata": {},
     "output_type": "execute_result"
    }
   ],
   "source": [
    "day_to_exposed_outside_region[datetime.date(2020,7,1)]"
   ]
  },
  {
   "cell_type": "code",
   "execution_count": 62,
   "metadata": {},
   "outputs": [
    {
     "name": "stdout",
     "output_type": "stream",
     "text": [
      "1664.5976951129653\n",
      "5415.840436731729\n",
      "-210.44700646913765\n",
      "-718.7315641464969\n",
      "-5.769480928371722\n",
      "-12.105052033117655\n"
     ]
    }
   ],
   "source": [
    "print(sum(day_to_exposed_outside_region[datetime.date(2020,7,1)]))\n",
    "print(sum(day_to_exposed_inside_region[datetime.date(2020,7,1)]))\n",
    "\n",
    "print(sum(day_to_exposed_outside_region_excess[datetime.date(2020,7,1)]))\n",
    "print(sum(day_to_exposed_inside_region_excess[datetime.date(2020,7,1)]))\n",
    "print(sum(day_to_exposed_outside_region_diff[datetime.date(2020,7,1)]))\n",
    "print(sum(day_to_exposed_inside_region_diff[datetime.date(2020,7,1)]))"
   ]
  },
  {
   "cell_type": "code",
   "execution_count": 63,
   "metadata": {},
   "outputs": [],
   "source": [
    "with open('../OtherData/DailyNumCasesImportedOutside_%s.pkl' % (file_suffix), 'wb') as handle:\n",
    "    pickle.dump(day_to_exposed_outside_region, handle, protocol=pickle.HIGHEST_PROTOCOL)\n",
    "    \n",
    "with open('../OtherData/DailyNumCasesImportedWithin_%s.pkl' % (file_suffix), 'wb') as handle:\n",
    "    pickle.dump(day_to_exposed_inside_region, handle, protocol=pickle.HIGHEST_PROTOCOL)\n",
    "    \n",
    "with open('../OtherData/DailyNumCasesImportedOutsideExcess_%s.pkl' % (file_suffix), 'wb') as handle:\n",
    "    pickle.dump(day_to_exposed_outside_region_excess, handle, protocol=pickle.HIGHEST_PROTOCOL)\n",
    "    \n",
    "with open('../OtherData/DailyNumCasesImportedWithinExcess_%s.pkl' % (file_suffix), 'wb') as handle:\n",
    "    pickle.dump(day_to_exposed_inside_region_excess, handle, protocol=pickle.HIGHEST_PROTOCOL)\n",
    "    \n",
    "with open('../OtherData/DailyNumCasesImportedOutsideDiff_%s.pkl' % (file_suffix), 'wb') as handle:\n",
    "    pickle.dump(day_to_exposed_outside_region_diff, handle, protocol=pickle.HIGHEST_PROTOCOL)\n",
    "    \n",
    "with open('../OtherData/DailyNumCasesImportedWithinDiff_%s.pkl' % (file_suffix), 'wb') as handle:\n",
    "    pickle.dump(day_to_exposed_inside_region_diff, handle, protocol=pickle.HIGHEST_PROTOCOL)"
   ]
  },
  {
   "cell_type": "code",
   "execution_count": 64,
   "metadata": {},
   "outputs": [
    {
     "name": "stdout",
     "output_type": "stream",
     "text": [
      "Time took = 6.995\n"
     ]
    }
   ],
   "source": [
    "start = time.time()\n",
    "df = pd.DataFrame(columns=('Date', 'Region', 'Imported Cases', 'Internal Movement',\n",
    "                           'Excess Imported Cases', 'Excess Internal Movement',\n",
    "                           'Diff Imported Cases', 'Diff Internal Movement', 'Prevalence'))\n",
    "index = 0\n",
    "\n",
    "for date in day_to_exposed_inside_region_excess.keys():\n",
    "    for region in subdistricts:\n",
    "        df.loc[index] = [date, region,\n",
    "                         day_to_exposed_outside_region[date][int(region)],\n",
    "                         day_to_exposed_inside_region[date][int(region)],\n",
    "                         day_to_exposed_outside_region_excess[date][int(region)],\n",
    "                         day_to_exposed_inside_region_excess[date][int(region)],\n",
    "                         day_to_exposed_outside_region_diff[date][int(region)],\n",
    "                         day_to_exposed_inside_region_diff[date][int(region)],\n",
    "                         b[string_date_to_datetime(date)][int(region)]]\n",
    "        index = index + 1\n",
    "end = time.time()\n",
    "print(\"Time took = %.3f\" % (end - start))"
   ]
  },
  {
   "cell_type": "code",
   "execution_count": 65,
   "metadata": {},
   "outputs": [
    {
     "data": {
      "text/html": [
       "<div>\n",
       "<style scoped>\n",
       "    .dataframe tbody tr th:only-of-type {\n",
       "        vertical-align: middle;\n",
       "    }\n",
       "\n",
       "    .dataframe tbody tr th {\n",
       "        vertical-align: top;\n",
       "    }\n",
       "\n",
       "    .dataframe thead th {\n",
       "        text-align: right;\n",
       "    }\n",
       "</style>\n",
       "<table border=\"1\" class=\"dataframe\">\n",
       "  <thead>\n",
       "    <tr style=\"text-align: right;\">\n",
       "      <th></th>\n",
       "      <th>Date</th>\n",
       "      <th>Region</th>\n",
       "      <th>Imported Cases</th>\n",
       "      <th>Internal Movement</th>\n",
       "      <th>Excess Imported Cases</th>\n",
       "      <th>Excess Internal Movement</th>\n",
       "      <th>Diff Imported Cases</th>\n",
       "      <th>Diff Internal Movement</th>\n",
       "      <th>Prevalence</th>\n",
       "    </tr>\n",
       "  </thead>\n",
       "  <tbody>\n",
       "    <tr>\n",
       "      <th>5035</th>\n",
       "      <td>2021-02-14</td>\n",
       "      <td>44.0</td>\n",
       "      <td>1163.158182</td>\n",
       "      <td>1766.979807</td>\n",
       "      <td>-325.700570</td>\n",
       "      <td>-833.935407</td>\n",
       "      <td>230.513896</td>\n",
       "      <td>227.286095</td>\n",
       "      <td>0.006701</td>\n",
       "    </tr>\n",
       "    <tr>\n",
       "      <th>5036</th>\n",
       "      <td>2021-02-14</td>\n",
       "      <td>51.0</td>\n",
       "      <td>1544.491578</td>\n",
       "      <td>1462.055723</td>\n",
       "      <td>-980.854550</td>\n",
       "      <td>-2203.170386</td>\n",
       "      <td>-41.032672</td>\n",
       "      <td>-600.000956</td>\n",
       "      <td>0.004844</td>\n",
       "    </tr>\n",
       "    <tr>\n",
       "      <th>5037</th>\n",
       "      <td>2021-02-14</td>\n",
       "      <td>61.0</td>\n",
       "      <td>502.824175</td>\n",
       "      <td>2745.084490</td>\n",
       "      <td>-193.667513</td>\n",
       "      <td>-662.255199</td>\n",
       "      <td>50.243184</td>\n",
       "      <td>842.894234</td>\n",
       "      <td>0.005860</td>\n",
       "    </tr>\n",
       "    <tr>\n",
       "      <th>5038</th>\n",
       "      <td>2021-02-14</td>\n",
       "      <td>62.0</td>\n",
       "      <td>426.142363</td>\n",
       "      <td>3239.311985</td>\n",
       "      <td>-194.564144</td>\n",
       "      <td>-856.281376</td>\n",
       "      <td>35.996424</td>\n",
       "      <td>-246.099231</td>\n",
       "      <td>0.003033</td>\n",
       "    </tr>\n",
       "    <tr>\n",
       "      <th>5039</th>\n",
       "      <td>2021-02-14</td>\n",
       "      <td>71.0</td>\n",
       "      <td>1291.765686</td>\n",
       "      <td>2826.707049</td>\n",
       "      <td>-652.604218</td>\n",
       "      <td>14.685800</td>\n",
       "      <td>-447.182980</td>\n",
       "      <td>308.189703</td>\n",
       "      <td>0.015703</td>\n",
       "    </tr>\n",
       "  </tbody>\n",
       "</table>\n",
       "</div>"
      ],
      "text/plain": [
       "            Date  Region  Imported Cases  Internal Movement  \\\n",
       "5035  2021-02-14    44.0     1163.158182        1766.979807   \n",
       "5036  2021-02-14    51.0     1544.491578        1462.055723   \n",
       "5037  2021-02-14    61.0      502.824175        2745.084490   \n",
       "5038  2021-02-14    62.0      426.142363        3239.311985   \n",
       "5039  2021-02-14    71.0     1291.765686        2826.707049   \n",
       "\n",
       "      Excess Imported Cases  Excess Internal Movement  Diff Imported Cases  \\\n",
       "5035            -325.700570               -833.935407           230.513896   \n",
       "5036            -980.854550              -2203.170386           -41.032672   \n",
       "5037            -193.667513               -662.255199            50.243184   \n",
       "5038            -194.564144               -856.281376            35.996424   \n",
       "5039            -652.604218                 14.685800          -447.182980   \n",
       "\n",
       "      Diff Internal Movement  Prevalence  \n",
       "5035              227.286095    0.006701  \n",
       "5036             -600.000956    0.004844  \n",
       "5037              842.894234    0.005860  \n",
       "5038             -246.099231    0.003033  \n",
       "5039              308.189703    0.015703  "
      ]
     },
     "execution_count": 65,
     "metadata": {},
     "output_type": "execute_result"
    }
   ],
   "source": [
    "df.tail()"
   ]
  },
  {
   "cell_type": "code",
   "execution_count": 66,
   "metadata": {},
   "outputs": [],
   "source": [
    "# Excess mobility compared to February (averaged)\n",
    "\n",
    "with open('../OtherData/ExcessAndDiffedMobility_%s.pkl' % (file_suffix), 'wb') as handle:\n",
    "    pickle.dump(df, handle, protocol=pickle.HIGHEST_PROTOCOL)"
   ]
  },
  {
   "cell_type": "markdown",
   "metadata": {},
   "source": [
    "# Plot some of the mobility data (imported cases and incidence)"
   ]
  },
  {
   "cell_type": "code",
   "execution_count": 67,
   "metadata": {},
   "outputs": [
    {
     "data": {
      "image/png": "[encoded data removed]",
      "text/plain": [
       "<Figure size 720x432 with 2 Axes>"
      ]
     },
     "metadata": {},
     "output_type": "display_data"
    },
    {
     "data": {
      "image/png": "[encoded data removed]",
      "text/plain": [
       "<Figure size 720x432 with 2 Axes>"
      ]
     },
     "metadata": {},
     "output_type": "display_data"
    },
    {
     "data": {
      "image/png": "[encoded data removed]",
      "text/plain": [
       "<Figure size 720x432 with 2 Axes>"
      ]
     },
     "metadata": {},
     "output_type": "display_data"
    },
    {
     "data": {
      "image/png": "[encoded data removed]",
      "text/plain": [
       "<Figure size 720x432 with 2 Axes>"
      ]
     },
     "metadata": {},
     "output_type": "display_data"
    }
   ],
   "source": [
    "x_axis = list(day_to_exposed_outside_region.keys())\n",
    "\n",
    "regions = [11, 21, 31, 61]\n",
    "\n",
    "for region in regions:\n",
    "    first_items = [d[int(region)] for d in day_to_exposed_outside_region.values()]\n",
    "    imported_cases_moving_avg = pd.Series(first_items).rolling(7).mean().fillna(0)\n",
    "\n",
    "    within_region_items = [d[int(region)] for d in day_to_exposed_inside_region.values()]\n",
    "    internal_movement_moving_avg = pd.Series(within_region_items).rolling(7).mean().fillna(0)\n",
    "\n",
    "    prevalence_items = [d[int(region)] for d in b.values()]\n",
    "    prevalence_moving_avg = pd.Series(prevalence_items).rolling(7).mean().fillna(0)\n",
    "\n",
    "    # expect a 7-14 day lag between imported cases and incidence in region 2000001\n",
    "\n",
    "    fig, ax = plt.subplots(figsize=(10,6))\n",
    "    #ax.plot(x_axis, eval_results['validation_1']['rmse'], label='Validation RMSE')\n",
    "    color = 'tab:red'\n",
    "    ax.set_xlabel('time')\n",
    "    ax.set_ylabel('avg of imported cases (red) and movement within region (green) of past 7 days', color=color)\n",
    "    #ax.plot(x_axis, first_items, color='salmon')\n",
    "    ax.plot(x_axis, imported_cases_moving_avg, color=color)\n",
    "    ax.plot(x_axis, internal_movement_moving_avg, color='green')\n",
    "    ax.tick_params(axis='y', labelcolor=color)\n",
    "\n",
    "    ax2 = ax.twinx()  # instantiate a second axes that shares the same x-axis\n",
    "\n",
    "    color = 'tab:blue'\n",
    "    ax2.set_ylabel('covid prevalence', color=color)  # we already handled the x-label with ax1\n",
    "    ax2.plot(x_axis, prevalence_items, color=color)\n",
    "    #ax2.plot(x_axis, incidence_moving_avg, color='purple')\n",
    "    ax2.tick_params(axis='y', labelcolor=color)\n",
    "\n",
    "    plt.title('Imported Cases and Prevalence in Region %d over time' % (region))\n",
    "    plt.show()"
   ]
  },
  {
   "cell_type": "code",
   "execution_count": 68,
   "metadata": {},
   "outputs": [
    {
     "data": {
      "text/html": [
       "<div>\n",
       "<style scoped>\n",
       "    .dataframe tbody tr th:only-of-type {\n",
       "        vertical-align: middle;\n",
       "    }\n",
       "\n",
       "    .dataframe tbody tr th {\n",
       "        vertical-align: top;\n",
       "    }\n",
       "\n",
       "    .dataframe thead th {\n",
       "        text-align: right;\n",
       "    }\n",
       "</style>\n",
       "<table border=\"1\" class=\"dataframe\">\n",
       "  <thead>\n",
       "    <tr style=\"text-align: right;\">\n",
       "      <th></th>\n",
       "      <th>Date</th>\n",
       "      <th>Region</th>\n",
       "      <th>Imported Cases</th>\n",
       "      <th>Internal Movement</th>\n",
       "      <th>Excess Imported Cases</th>\n",
       "      <th>Excess Internal Movement</th>\n",
       "      <th>Diff Imported Cases</th>\n",
       "      <th>Diff Internal Movement</th>\n",
       "      <th>Prevalence</th>\n",
       "    </tr>\n",
       "  </thead>\n",
       "  <tbody>\n",
       "    <tr>\n",
       "      <th>5035</th>\n",
       "      <td>2021-02-14</td>\n",
       "      <td>44.0</td>\n",
       "      <td>1163.158182</td>\n",
       "      <td>1766.979807</td>\n",
       "      <td>-325.700570</td>\n",
       "      <td>-833.935407</td>\n",
       "      <td>230.513896</td>\n",
       "      <td>227.286095</td>\n",
       "      <td>0.006701</td>\n",
       "    </tr>\n",
       "    <tr>\n",
       "      <th>5036</th>\n",
       "      <td>2021-02-14</td>\n",
       "      <td>51.0</td>\n",
       "      <td>1544.491578</td>\n",
       "      <td>1462.055723</td>\n",
       "      <td>-980.854550</td>\n",
       "      <td>-2203.170386</td>\n",
       "      <td>-41.032672</td>\n",
       "      <td>-600.000956</td>\n",
       "      <td>0.004844</td>\n",
       "    </tr>\n",
       "    <tr>\n",
       "      <th>5037</th>\n",
       "      <td>2021-02-14</td>\n",
       "      <td>61.0</td>\n",
       "      <td>502.824175</td>\n",
       "      <td>2745.084490</td>\n",
       "      <td>-193.667513</td>\n",
       "      <td>-662.255199</td>\n",
       "      <td>50.243184</td>\n",
       "      <td>842.894234</td>\n",
       "      <td>0.005860</td>\n",
       "    </tr>\n",
       "    <tr>\n",
       "      <th>5038</th>\n",
       "      <td>2021-02-14</td>\n",
       "      <td>62.0</td>\n",
       "      <td>426.142363</td>\n",
       "      <td>3239.311985</td>\n",
       "      <td>-194.564144</td>\n",
       "      <td>-856.281376</td>\n",
       "      <td>35.996424</td>\n",
       "      <td>-246.099231</td>\n",
       "      <td>0.003033</td>\n",
       "    </tr>\n",
       "    <tr>\n",
       "      <th>5039</th>\n",
       "      <td>2021-02-14</td>\n",
       "      <td>71.0</td>\n",
       "      <td>1291.765686</td>\n",
       "      <td>2826.707049</td>\n",
       "      <td>-652.604218</td>\n",
       "      <td>14.685800</td>\n",
       "      <td>-447.182980</td>\n",
       "      <td>308.189703</td>\n",
       "      <td>0.015703</td>\n",
       "    </tr>\n",
       "  </tbody>\n",
       "</table>\n",
       "</div>"
      ],
      "text/plain": [
       "            Date  Region  Imported Cases  Internal Movement  \\\n",
       "5035  2021-02-14    44.0     1163.158182        1766.979807   \n",
       "5036  2021-02-14    51.0     1544.491578        1462.055723   \n",
       "5037  2021-02-14    61.0      502.824175        2745.084490   \n",
       "5038  2021-02-14    62.0      426.142363        3239.311985   \n",
       "5039  2021-02-14    71.0     1291.765686        2826.707049   \n",
       "\n",
       "      Excess Imported Cases  Excess Internal Movement  Diff Imported Cases  \\\n",
       "5035            -325.700570               -833.935407           230.513896   \n",
       "5036            -980.854550              -2203.170386           -41.032672   \n",
       "5037            -193.667513               -662.255199            50.243184   \n",
       "5038            -194.564144               -856.281376            35.996424   \n",
       "5039            -652.604218                 14.685800          -447.182980   \n",
       "\n",
       "      Diff Internal Movement  Prevalence  \n",
       "5035              227.286095    0.006701  \n",
       "5036             -600.000956    0.004844  \n",
       "5037              842.894234    0.005860  \n",
       "5038             -246.099231    0.003033  \n",
       "5039              308.189703    0.015703  "
      ]
     },
     "execution_count": 68,
     "metadata": {},
     "output_type": "execute_result"
    }
   ],
   "source": [
    "df.tail()"
   ]
  },
  {
   "cell_type": "markdown",
   "metadata": {},
   "source": [
    "# Combine the mobility df (\"prevalence_df\") with the health mapping results df (\"results\")"
   ]
  },
  {
   "cell_type": "code",
   "execution_count": 69,
   "metadata": {},
   "outputs": [],
   "source": [
    "prevalence_df = df.rename(columns={\"Date\": \"date\", \"Region\": \"250_regions\"})\n",
    "prevalence_df_1 = prevalence_df.set_index([\"date\",\"250_regions\"])"
   ]
  },
  {
   "cell_type": "code",
   "execution_count": 70,
   "metadata": {},
   "outputs": [],
   "source": [
    "combined = prevalence_df_1.join(results1, on=('date', '250_regions')).fillna(0)"
   ]
  },
  {
   "cell_type": "code",
   "execution_count": 71,
   "metadata": {},
   "outputs": [],
   "source": [
    "def adjust_for_population(df, col_name):\n",
    "    new_col_name = col_name + \"_Adj100k\"\n",
    "    df[new_col_name] = df[col_name] * 100000 / df[\"population\"]\n",
    "    return df\n",
    "    \n",
    "combined = adjust_for_population(combined, 'Imported Cases')\n",
    "combined = adjust_for_population(combined, 'Internal Movement')\n",
    "combined = adjust_for_population(combined, 'Excess Imported Cases')\n",
    "combined = adjust_for_population(combined, 'Excess Internal Movement')\n",
    "combined = adjust_for_population(combined, 'Diff Imported Cases')\n",
    "combined = adjust_for_population(combined, 'Diff Internal Movement')\n",
    "combined = adjust_for_population(combined, 'active_cases')\n",
    "combined = adjust_for_population(combined, 'new_cases')\n",
    "combined = adjust_for_population(combined, 'new_tests')"
   ]
  },
  {
   "cell_type": "code",
   "execution_count": 72,
   "metadata": {},
   "outputs": [
    {
     "name": "stdout",
     "output_type": "stream",
     "text": [
      "Index(['Date', 'Region', 'Imported Cases', 'Internal Movement',\n",
      "       'Excess Imported Cases', 'Excess Internal Movement',\n",
      "       'Diff Imported Cases', 'Diff Internal Movement', 'Prevalence',\n",
      "       'accumulated_cases', 'accumulated_recoveries', 'accumulated_tested',\n",
      "       'active_cases', 'population', 'median age', 'weighted_mean_poverty',\n",
      "       'prevalence', 'new_cases', 'new_tests', 'positivity_rate',\n",
      "       'Imported Cases_Adj100k', 'Internal Movement_Adj100k',\n",
      "       'Excess Imported Cases_Adj100k', 'Excess Internal Movement_Adj100k',\n",
      "       'Diff Imported Cases_Adj100k', 'Diff Internal Movement_Adj100k',\n",
      "       'active_cases_Adj100k', 'new_cases_Adj100k', 'new_tests_Adj100k'],\n",
      "      dtype='object')\n"
     ]
    }
   ],
   "source": [
    "combined2 = combined.dropna()\n",
    "combined2.reset_index(inplace=True)\n",
    "combined2 = combined2.rename(columns={'250_regions': 'Region', 'date': 'Date'})\n",
    "print(combined2.columns)"
   ]
  },
  {
   "cell_type": "code",
   "execution_count": 77,
   "metadata": {},
   "outputs": [],
   "source": [
    "# Computes the moving average (including the most recent day)\n",
    "combined2['Active_Cases_7_Adj100k'] = combined2.groupby(['Region'])['active_cases_Adj100k'].transform(lambda x: x.rolling(7, 1).mean())\n",
    "combined2['New_Cases_7_Adj100k'] = combined2.groupby(['Region'])['new_cases_Adj100k'].transform(lambda x: x.rolling(7, 1).mean())\n",
    "combined2['New_Tests_7_Adj100k'] = combined2.groupby(['Region'])['new_tests_Adj100k'].transform(lambda x: x.rolling(7, 1).mean())\n",
    "combined2['Positivity_Rate_7'] = combined2.groupby(['Region'])['positivity_rate'].transform(lambda x: x.rolling(7, 1).mean())# Computes the moving average (including the most recent day)\n",
    "\n",
    "combined2['Excess Imported_Cases_7_Adj100k'] = combined2.groupby(['Region'])['Excess Imported Cases_Adj100k'].transform(lambda x: x.rolling(7, 1).mean())\n",
    "combined2['Diff Imported_Cases_7_Adj100k'] = combined2.groupby(['Region'])['Diff Imported Cases_Adj100k'].transform(lambda x: x.rolling(7, 1).mean())\n",
    "combined2['Excess Internal_Movement_7_Adj100k'] = combined2.groupby(['Region'])['Excess Internal Movement_Adj100k'].transform(lambda x: x.rolling(7, 1).mean())\n",
    "combined2['Diff Internal_Movement_7_Adj100k'] = combined2.groupby(['Region'])['Diff Internal Movement_Adj100k'].transform(lambda x: x.rolling(7, 1).mean())\n",
    "combined2['Internal_Movement_7_Adj100k'] = combined2.groupby(['Region'])['Internal Movement_Adj100k'].transform(lambda x: x.rolling(7, 1).mean())\n",
    "\n",
    "combined2[\"Pressure_7_Adj100k\"] = combined2.groupby(['Region'])[\"Imported Cases_Adj100k\"].transform(lambda x: x.rolling(7, 1).sum())\n",
    "#combined2[\"Pressure_8_Adj100k\"] = combined2.groupby(['Region'])[\"Imported Cases_Adj100k\"].transform(lambda x: x.rolling(8, 1).sum())\n",
    "combined2[\"Excess Pressure_7_Adj100k\"] = combined2.groupby(['Region'])[\"Excess Imported Cases_Adj100k\"].transform(lambda x: x.rolling(7, 1).sum())\n",
    "#combined2[\"Excess Pressure_8_Adj100k\"] = combined2.groupby(['Region'])[\"Excess Imported Cases_Adj100k\"].transform(lambda x: x.rolling(8, 1).sum())\n",
    "combined2[\"Diff Pressure_7_Adj100k\"] = combined2.groupby(['Region'])[\"Diff Imported Cases_Adj100k\"].transform(lambda x: x.rolling(7, 1).sum())\n",
    "#combined2[\"Diff Pressure_8_Adj100k\"] = combined2.groupby(['Region'])[\"Diff Imported Cases_Adj100k\"].transform(lambda x: x.rolling(8, 1).sum())"
   ]
  },
  {
   "cell_type": "code",
   "execution_count": 78,
   "metadata": {},
   "outputs": [],
   "source": [
    "for i in range(6):\n",
    "    label = \"New_Cases_7_Adj100k_\" + str(i + 1) + \"dayago\"\n",
    "    combined2[label] = combined2.groupby(['Region'])['New_Cases_7_Adj100k'].shift(i+1).fillna(0)\n",
    "    label = \"New_Tests_7_Adj100k_\" + str(i + 1) + \"dayago\"\n",
    "    combined2[label] = combined2.groupby(['Region'])['New_Tests_7_Adj100k'].shift(i+1).fillna(0)\n",
    "    label = \"Positivity_Rate_7_\" + str(i + 1) + \"dayago\"\n",
    "    combined2[label] = combined2.groupby(['Region'])['Positivity_Rate_7'].shift(i+1).fillna(0)\n",
    "    label = \"Active_Cases_7_Adj100k_7_\" + str(i + 1) + \"dayago\"\n",
    "    combined2[label] = combined2.groupby(['Region'])['Active_Cases_7_Adj100k'].shift(i+1).fillna(0)\n",
    "for i in range(1):\n",
    "    label = \"Internal_Movement_7_Adj100k_\" + str(i + 1) + \"dayago\"\n",
    "    combined2[label] = combined2.groupby(['Region'])['Internal_Movement_7_Adj100k'].shift(i+1).fillna(0)\n",
    "    label = \"Excess Internal_Movement_7_Adj100k_\" + str(i + 1) + \"dayago\"\n",
    "    combined2[label] = combined2.groupby(['Region'])['Excess Internal_Movement_7_Adj100k'].shift(i+1).fillna(0)\n",
    "    label = \"Diff Internal_Movement_7_Adj100k_\" + str(i + 1) + \"dayago\"\n",
    "    combined2[label] = combined2.groupby(['Region'])['Diff Internal_Movement_7_Adj100k'].shift(i+1).fillna(0)\n",
    "    label = \"Pressure_7_Adj100k_\" + str(i + 1) + \"dayago\"\n",
    "    combined2[label] = combined2.groupby(['Region'])['Pressure_7_Adj100k'].shift(i+1).fillna(0)\n",
    "    label = \"Excess Pressure_7_Adj100k_\" + str(i + 1) + \"dayago\"\n",
    "    combined2[label] = combined2.groupby(['Region'])['Excess Pressure_7_Adj100k'].shift(i+1).fillna(0)\n",
    "    label = \"Diff Pressure_7_Adj100k_\" + str(i + 1) + \"dayago\"\n",
    "    combined2[label] = combined2.groupby(['Region'])['Diff Pressure_7_Adj100k'].shift(i+1).fillna(0)\n",
    "combined2['NewCases_7_Adj100k_next7days'] = combined2.groupby(['Region'])['New_Cases_7_Adj100k'].shift(-7).fillna(0)\n",
    "combined2['NewTests_7_Adj100k_next7days'] = combined2.groupby(['Region'])['New_Tests_7_Adj100k'].shift(-7).fillna(0)\n",
    "combined2['Positivity_Rate_7_next7days'] = combined2.groupby(['Region'])['Positivity_Rate_7'].shift(-7).fillna(0)\n",
    "combined2['Active_Cases_7_Adj100k_next7days'] = combined2.groupby(['Region'])['Active_Cases_7_Adj100k'].shift(-7).fillna(0)"
   ]
  },
  {
   "cell_type": "code",
   "execution_count": 87,
   "metadata": {},
   "outputs": [
    {
     "data": {
      "text/html": [
       "<div>\n",
       "<style scoped>\n",
       "    .dataframe tbody tr th:only-of-type {\n",
       "        vertical-align: middle;\n",
       "    }\n",
       "\n",
       "    .dataframe tbody tr th {\n",
       "        vertical-align: top;\n",
       "    }\n",
       "\n",
       "    .dataframe thead th {\n",
       "        text-align: right;\n",
       "    }\n",
       "</style>\n",
       "<table border=\"1\" class=\"dataframe\">\n",
       "  <thead>\n",
       "    <tr style=\"text-align: right;\">\n",
       "      <th></th>\n",
       "      <th>Date</th>\n",
       "      <th>Imported Cases_Adj100k</th>\n",
       "      <th>Pressure_7_Adj100k</th>\n",
       "      <th>Pressure_7_Adj100k_1dayago</th>\n",
       "    </tr>\n",
       "  </thead>\n",
       "  <tbody>\n",
       "    <tr>\n",
       "      <th>0</th>\n",
       "      <td>2020-04-06</td>\n",
       "      <td>8.735610</td>\n",
       "      <td>8.735610</td>\n",
       "      <td>0.000000</td>\n",
       "    </tr>\n",
       "    <tr>\n",
       "      <th>2</th>\n",
       "      <td>2020-04-07</td>\n",
       "      <td>755.331243</td>\n",
       "      <td>764.066853</td>\n",
       "      <td>8.735610</td>\n",
       "    </tr>\n",
       "    <tr>\n",
       "      <th>5</th>\n",
       "      <td>2020-04-08</td>\n",
       "      <td>542.581815</td>\n",
       "      <td>1306.648668</td>\n",
       "      <td>764.066853</td>\n",
       "    </tr>\n",
       "    <tr>\n",
       "      <th>9</th>\n",
       "      <td>2020-04-09</td>\n",
       "      <td>407.745610</td>\n",
       "      <td>1714.394278</td>\n",
       "      <td>1306.648668</td>\n",
       "    </tr>\n",
       "    <tr>\n",
       "      <th>13</th>\n",
       "      <td>2020-04-10</td>\n",
       "      <td>483.867867</td>\n",
       "      <td>2198.262144</td>\n",
       "      <td>1714.394278</td>\n",
       "    </tr>\n",
       "    <tr>\n",
       "      <th>17</th>\n",
       "      <td>2020-04-11</td>\n",
       "      <td>399.363168</td>\n",
       "      <td>2597.625312</td>\n",
       "      <td>2198.262144</td>\n",
       "    </tr>\n",
       "    <tr>\n",
       "      <th>21</th>\n",
       "      <td>2020-04-12</td>\n",
       "      <td>545.981526</td>\n",
       "      <td>3143.606838</td>\n",
       "      <td>2597.625312</td>\n",
       "    </tr>\n",
       "    <tr>\n",
       "      <th>25</th>\n",
       "      <td>2020-04-13</td>\n",
       "      <td>491.061589</td>\n",
       "      <td>3625.932817</td>\n",
       "      <td>3143.606838</td>\n",
       "    </tr>\n",
       "    <tr>\n",
       "      <th>29</th>\n",
       "      <td>2020-04-14</td>\n",
       "      <td>445.264479</td>\n",
       "      <td>3315.866053</td>\n",
       "      <td>3625.932817</td>\n",
       "    </tr>\n",
       "    <tr>\n",
       "      <th>33</th>\n",
       "      <td>2020-04-15</td>\n",
       "      <td>312.335864</td>\n",
       "      <td>3085.620102</td>\n",
       "      <td>3315.866053</td>\n",
       "    </tr>\n",
       "  </tbody>\n",
       "</table>\n",
       "</div>"
      ],
      "text/plain": [
       "         Date  Imported Cases_Adj100k  Pressure_7_Adj100k  \\\n",
       "0  2020-04-06                8.735610            8.735610   \n",
       "2  2020-04-07              755.331243          764.066853   \n",
       "5  2020-04-08              542.581815         1306.648668   \n",
       "9  2020-04-09              407.745610         1714.394278   \n",
       "13 2020-04-10              483.867867         2198.262144   \n",
       "17 2020-04-11              399.363168         2597.625312   \n",
       "21 2020-04-12              545.981526         3143.606838   \n",
       "25 2020-04-13              491.061589         3625.932817   \n",
       "29 2020-04-14              445.264479         3315.866053   \n",
       "33 2020-04-15              312.335864         3085.620102   \n",
       "\n",
       "    Pressure_7_Adj100k_1dayago  \n",
       "0                     0.000000  \n",
       "2                     8.735610  \n",
       "5                   764.066853  \n",
       "9                  1306.648668  \n",
       "13                 1714.394278  \n",
       "17                 2198.262144  \n",
       "21                 2597.625312  \n",
       "25                 3143.606838  \n",
       "29                 3625.932817  \n",
       "33                 3315.866053  "
      ]
     },
     "execution_count": 87,
     "metadata": {},
     "output_type": "execute_result"
    }
   ],
   "source": [
    "combined2.where(combined2[\"Region\"]==11).dropna()[[\"Date\",'Imported Cases_Adj100k',\"Pressure_7_Adj100k\", \"Pressure_7_Adj100k_1dayago\"]].head(10)"
   ]
  },
  {
   "cell_type": "code",
   "execution_count": 79,
   "metadata": {},
   "outputs": [],
   "source": [
    "with open('../OtherData/CombinedDFAdjPopulationExcessMobility_%s.pkl' % (file_suffix), 'wb') as handle:\n",
    "    pickle.dump(combined2, handle, protocol=pickle.HIGHEST_PROTOCOL)"
   ]
  },
  {
   "cell_type": "code",
   "execution_count": 80,
   "metadata": {},
   "outputs": [
    {
     "data": {
      "text/html": [
       "<div>\n",
       "<style scoped>\n",
       "    .dataframe tbody tr th:only-of-type {\n",
       "        vertical-align: middle;\n",
       "    }\n",
       "\n",
       "    .dataframe tbody tr th {\n",
       "        vertical-align: top;\n",
       "    }\n",
       "\n",
       "    .dataframe thead th {\n",
       "        text-align: right;\n",
       "    }\n",
       "</style>\n",
       "<table border=\"1\" class=\"dataframe\">\n",
       "  <thead>\n",
       "    <tr style=\"text-align: right;\">\n",
       "      <th></th>\n",
       "      <th>Date</th>\n",
       "      <th>Region</th>\n",
       "      <th>Imported Cases</th>\n",
       "      <th>Internal Movement</th>\n",
       "      <th>Excess Imported Cases</th>\n",
       "      <th>Excess Internal Movement</th>\n",
       "      <th>Diff Imported Cases</th>\n",
       "      <th>Diff Internal Movement</th>\n",
       "      <th>Prevalence</th>\n",
       "      <th>accumulated_cases</th>\n",
       "      <th>...</th>\n",
       "      <th>Diff Internal_Movement_7_Adj100k_6dayago</th>\n",
       "      <th>NewCases_7_Adj100k_next7days</th>\n",
       "      <th>NewTests_7_Adj100k_next7days</th>\n",
       "      <th>Positivity_Rate_7_next7days</th>\n",
       "      <th>Active_Cases_7_Adj100k_next7days</th>\n",
       "      <th>Internal_Movement_7_Adj100k</th>\n",
       "      <th>Internal_Movement_7_Adj100k_1dayago</th>\n",
       "      <th>Pressure_7_Adj100k_1dayago</th>\n",
       "      <th>Excess Pressure_7_Adj100k_1dayago</th>\n",
       "      <th>Diff Pressure_7_Adj100k_1dayago</th>\n",
       "    </tr>\n",
       "  </thead>\n",
       "  <tbody>\n",
       "    <tr>\n",
       "      <th>0</th>\n",
       "      <td>2020-04-06</td>\n",
       "      <td>11.0</td>\n",
       "      <td>3.921939</td>\n",
       "      <td>212.960175</td>\n",
       "      <td>-3.931265</td>\n",
       "      <td>-226.041407</td>\n",
       "      <td>1.078971</td>\n",
       "      <td>37.191287</td>\n",
       "      <td>0.000445</td>\n",
       "      <td>36.0</td>\n",
       "      <td>...</td>\n",
       "      <td>0.0</td>\n",
       "      <td>0.636391</td>\n",
       "      <td>8.909480</td>\n",
       "      <td>0.040816</td>\n",
       "      <td>40.092659</td>\n",
       "      <td>474.341087</td>\n",
       "      <td>0.000000</td>\n",
       "      <td>0.000000</td>\n",
       "      <td>0.000000</td>\n",
       "      <td>0.000000</td>\n",
       "    </tr>\n",
       "    <tr>\n",
       "      <th>1</th>\n",
       "      <td>2020-04-06</td>\n",
       "      <td>43.0</td>\n",
       "      <td>2.662598</td>\n",
       "      <td>54.670330</td>\n",
       "      <td>-3.809694</td>\n",
       "      <td>-53.559707</td>\n",
       "      <td>0.265948</td>\n",
       "      <td>11.647125</td>\n",
       "      <td>0.000565</td>\n",
       "      <td>51.0</td>\n",
       "      <td>...</td>\n",
       "      <td>0.0</td>\n",
       "      <td>0.224287</td>\n",
       "      <td>8.074320</td>\n",
       "      <td>0.023810</td>\n",
       "      <td>45.305905</td>\n",
       "      <td>85.832779</td>\n",
       "      <td>0.000000</td>\n",
       "      <td>0.000000</td>\n",
       "      <td>0.000000</td>\n",
       "      <td>0.000000</td>\n",
       "    </tr>\n",
       "    <tr>\n",
       "      <th>2</th>\n",
       "      <td>2020-04-07</td>\n",
       "      <td>11.0</td>\n",
       "      <td>339.113515</td>\n",
       "      <td>202.206366</td>\n",
       "      <td>-306.583999</td>\n",
       "      <td>-203.395876</td>\n",
       "      <td>40.443814</td>\n",
       "      <td>38.810005</td>\n",
       "      <td>0.000423</td>\n",
       "      <td>36.0</td>\n",
       "      <td>...</td>\n",
       "      <td>0.0</td>\n",
       "      <td>0.636391</td>\n",
       "      <td>8.591284</td>\n",
       "      <td>0.040816</td>\n",
       "      <td>39.456267</td>\n",
       "      <td>462.364732</td>\n",
       "      <td>474.341087</td>\n",
       "      <td>8.735610</td>\n",
       "      <td>-8.756382</td>\n",
       "      <td>2.403268</td>\n",
       "    </tr>\n",
       "    <tr>\n",
       "      <th>3</th>\n",
       "      <td>2020-04-07</td>\n",
       "      <td>43.0</td>\n",
       "      <td>34.100335</td>\n",
       "      <td>52.911012</td>\n",
       "      <td>-29.197440</td>\n",
       "      <td>-48.437749</td>\n",
       "      <td>6.876160</td>\n",
       "      <td>11.665180</td>\n",
       "      <td>0.000534</td>\n",
       "      <td>51.0</td>\n",
       "      <td>...</td>\n",
       "      <td>0.0</td>\n",
       "      <td>0.224287</td>\n",
       "      <td>9.868613</td>\n",
       "      <td>0.023810</td>\n",
       "      <td>43.063038</td>\n",
       "      <td>84.451708</td>\n",
       "      <td>85.832779</td>\n",
       "      <td>4.180296</td>\n",
       "      <td>-5.981244</td>\n",
       "      <td>0.417540</td>\n",
       "    </tr>\n",
       "    <tr>\n",
       "      <th>4</th>\n",
       "      <td>2020-04-07</td>\n",
       "      <td>71.0</td>\n",
       "      <td>30.927116</td>\n",
       "      <td>799.524759</td>\n",
       "      <td>-26.389180</td>\n",
       "      <td>-201.275965</td>\n",
       "      <td>4.001431</td>\n",
       "      <td>71.185645</td>\n",
       "      <td>0.005787</td>\n",
       "      <td>355.0</td>\n",
       "      <td>...</td>\n",
       "      <td>0.0</td>\n",
       "      <td>0.000000</td>\n",
       "      <td>122.899535</td>\n",
       "      <td>0.000000</td>\n",
       "      <td>474.041064</td>\n",
       "      <td>1786.567659</td>\n",
       "      <td>0.000000</td>\n",
       "      <td>0.000000</td>\n",
       "      <td>0.000000</td>\n",
       "      <td>0.000000</td>\n",
       "    </tr>\n",
       "  </tbody>\n",
       "</table>\n",
       "<p>5 rows × 88 columns</p>\n",
       "</div>"
      ],
      "text/plain": [
       "        Date  Region  Imported Cases  Internal Movement  \\\n",
       "0 2020-04-06    11.0        3.921939         212.960175   \n",
       "1 2020-04-06    43.0        2.662598          54.670330   \n",
       "2 2020-04-07    11.0      339.113515         202.206366   \n",
       "3 2020-04-07    43.0       34.100335          52.911012   \n",
       "4 2020-04-07    71.0       30.927116         799.524759   \n",
       "\n",
       "   Excess Imported Cases  Excess Internal Movement  Diff Imported Cases  \\\n",
       "0              -3.931265               -226.041407             1.078971   \n",
       "1              -3.809694                -53.559707             0.265948   \n",
       "2            -306.583999               -203.395876            40.443814   \n",
       "3             -29.197440                -48.437749             6.876160   \n",
       "4             -26.389180               -201.275965             4.001431   \n",
       "\n",
       "   Diff Internal Movement  Prevalence  accumulated_cases  \\\n",
       "0               37.191287    0.000445               36.0   \n",
       "1               11.647125    0.000565               51.0   \n",
       "2               38.810005    0.000423               36.0   \n",
       "3               11.665180    0.000534               51.0   \n",
       "4               71.185645    0.005787              355.0   \n",
       "\n",
       "                ...                 Diff Internal_Movement_7_Adj100k_6dayago  \\\n",
       "0               ...                                                      0.0   \n",
       "1               ...                                                      0.0   \n",
       "2               ...                                                      0.0   \n",
       "3               ...                                                      0.0   \n",
       "4               ...                                                      0.0   \n",
       "\n",
       "   NewCases_7_Adj100k_next7days  NewTests_7_Adj100k_next7days  \\\n",
       "0                      0.636391                      8.909480   \n",
       "1                      0.224287                      8.074320   \n",
       "2                      0.636391                      8.591284   \n",
       "3                      0.224287                      9.868613   \n",
       "4                      0.000000                    122.899535   \n",
       "\n",
       "   Positivity_Rate_7_next7days  Active_Cases_7_Adj100k_next7days  \\\n",
       "0                     0.040816                         40.092659   \n",
       "1                     0.023810                         45.305905   \n",
       "2                     0.040816                         39.456267   \n",
       "3                     0.023810                         43.063038   \n",
       "4                     0.000000                        474.041064   \n",
       "\n",
       "   Internal_Movement_7_Adj100k  Internal_Movement_7_Adj100k_1dayago  \\\n",
       "0                   474.341087                             0.000000   \n",
       "1                    85.832779                             0.000000   \n",
       "2                   462.364732                           474.341087   \n",
       "3                    84.451708                            85.832779   \n",
       "4                  1786.567659                             0.000000   \n",
       "\n",
       "   Pressure_7_Adj100k_1dayago  Excess Pressure_7_Adj100k_1dayago  \\\n",
       "0                    0.000000                           0.000000   \n",
       "1                    0.000000                           0.000000   \n",
       "2                    8.735610                          -8.756382   \n",
       "3                    4.180296                          -5.981244   \n",
       "4                    0.000000                           0.000000   \n",
       "\n",
       "   Diff Pressure_7_Adj100k_1dayago  \n",
       "0                         0.000000  \n",
       "1                         0.000000  \n",
       "2                         2.403268  \n",
       "3                         0.417540  \n",
       "4                         0.000000  \n",
       "\n",
       "[5 rows x 88 columns]"
      ]
     },
     "execution_count": 80,
     "metadata": {},
     "output_type": "execute_result"
    }
   ],
   "source": [
    "combined2.head()"
   ]
  },
  {
   "cell_type": "code",
   "execution_count": null,
   "metadata": {},
   "outputs": [],
   "source": []
  },
  {
   "cell_type": "code",
   "execution_count": null,
   "metadata": {},
   "outputs": [],
   "source": []
  },
  {
   "cell_type": "code",
   "execution_count": null,
   "metadata": {},
   "outputs": [],
   "source": []
  },
  {
   "cell_type": "code",
   "execution_count": null,
   "metadata": {},
   "outputs": [],
   "source": []
  }
 ],
 "metadata": {
  "kernelspec": {
   "display_name": "Python 3",
   "language": "python",
   "name": "python3"
  },
  "language_info": {
   "codemirror_mode": {
    "name": "ipython",
    "version": 3
   },
   "file_extension": ".py",
   "mimetype": "text/x-python",
   "name": "python",
   "nbconvert_exporter": "python",
   "pygments_lexer": "ipython3",
   "version": "3.6.5"
  }
 },
 "nbformat": 4,
 "nbformat_minor": 2
}
