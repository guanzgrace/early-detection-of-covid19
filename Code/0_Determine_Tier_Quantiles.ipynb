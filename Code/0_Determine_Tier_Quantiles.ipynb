{
 "cells": [
  {
   "cell_type": "code",
   "execution_count": 1,
   "metadata": {},
   "outputs": [],
   "source": [
    "%run 0_Regressions_Common.ipynb"
   ]
  },
  {
   "cell_type": "code",
   "execution_count": 2,
   "metadata": {},
   "outputs": [],
   "source": [
    "feature_sets = activecases_feature_sets\n",
    "label = activecases_label\n",
    "text_label = \"active cases\"\n",
    "text_label_cap = \"Active Cases\"\n",
    "label_daily = \"active_cases_Adj100k\""
   ]
  },
  {
   "cell_type": "code",
   "execution_count": 3,
   "metadata": {},
   "outputs": [],
   "source": [
    "file_suffix='mar9'\n",
    "\n",
    "with open('../OtherData/CombinedDFAdjPopulationExcessMobility_%s.pkl' % (file_suffix), 'rb') as handle:\n",
    "    df = pickle.load(handle)"
   ]
  },
  {
   "cell_type": "code",
   "execution_count": null,
   "metadata": {},
   "outputs": [],
   "source": []
  },
  {
   "cell_type": "markdown",
   "metadata": {},
   "source": [
    "# Get rid of small regions"
   ]
  },
  {
   "cell_type": "code",
   "execution_count": 4,
   "metadata": {},
   "outputs": [
    {
     "name": "stdout",
     "output_type": "stream",
     "text": [
      "Number of test regions: 7\n",
      "Number of val regions: 7\n"
     ]
    }
   ],
   "source": [
    "with open('../OtherData/0_test_8_regions_mar9.pkl', 'rb') as handle:\n",
    "    test_regions = pickle.load(handle)\n",
    "\n",
    "with open('../OtherData/0_val_7_regions_mar9.pkl', 'rb') as handle:\n",
    "    val_regions = pickle.load(handle)\n",
    "     \n",
    "print(\"Number of test regions: %d\" % (len(test_regions)))\n",
    "print(\"Number of val regions: %d\" % (len(val_regions)))\n",
    "\n",
    "regions_2 = val_regions"
   ]
  },
  {
   "cell_type": "code",
   "execution_count": 5,
   "metadata": {},
   "outputs": [],
   "source": [
    "def print_tiers(series):\n",
    "    print(np.percentile(series, 80))\n",
    "    print(np.percentile(series, 60))\n",
    "    print(np.percentile(series, 40))\n",
    "    print(np.percentile(series, 20))"
   ]
  },
  {
   "cell_type": "markdown",
   "metadata": {},
   "source": [
    "# Determine quantile cutoffs for active cases based on train set"
   ]
  },
  {
   "cell_type": "code",
   "execution_count": 6,
   "metadata": {},
   "outputs": [],
   "source": [
    "train_regs=df.where(df[\"Region\"].isin(regions_2)).where(df[\"Date\"] <= \"2020-10-24\").dropna()"
   ]
  },
  {
   "cell_type": "code",
   "execution_count": 7,
   "metadata": {},
   "outputs": [
    {
     "name": "stdout",
     "output_type": "stream",
     "text": [
      "396.1611503339783\n",
      "156.11107885497478\n",
      "63.727829876830526\n",
      "12.757073545617498\n"
     ]
    }
   ],
   "source": [
    "print_tiers(train_regs[label].values)"
   ]
  },
  {
   "cell_type": "markdown",
   "metadata": {},
   "source": [
    "# New Cases"
   ]
  },
  {
   "cell_type": "code",
   "execution_count": 8,
   "metadata": {},
   "outputs": [],
   "source": [
    "label = newcases_label"
   ]
  },
  {
   "cell_type": "code",
   "execution_count": 9,
   "metadata": {},
   "outputs": [],
   "source": [
    "train_regs=df.where(df[\"Region\"].isin(regions_2)).where(df[\"Date\"] <= \"2020-10-24\").where(df[label] > 0).dropna()"
   ]
  },
  {
   "cell_type": "code",
   "execution_count": 10,
   "metadata": {},
   "outputs": [
    {
     "name": "stdout",
     "output_type": "stream",
     "text": [
      "33.40533521312481\n",
      "15.876902134214022\n",
      "8.854829036571248\n",
      "2.8224668360146765\n"
     ]
    }
   ],
   "source": [
    "print_tiers(train_regs[label].values)"
   ]
  },
  {
   "cell_type": "markdown",
   "metadata": {},
   "source": [
    "# Test Pos Rate"
   ]
  },
  {
   "cell_type": "code",
   "execution_count": 11,
   "metadata": {},
   "outputs": [],
   "source": [
    "label = positivity_label"
   ]
  },
  {
   "cell_type": "code",
   "execution_count": 12,
   "metadata": {},
   "outputs": [],
   "source": [
    "train_regs=df.where(df[\"Region\"].isin(regions_2)).where(df[\"Date\"] <= \"2020-10-24\").where(df[label] > 0).dropna()"
   ]
  },
  {
   "cell_type": "code",
   "execution_count": 13,
   "metadata": {},
   "outputs": [
    {
     "name": "stdout",
     "output_type": "stream",
     "text": [
      "0.10172953715272645\n",
      "0.07298796809777928\n",
      "0.050799861741450944\n",
      "0.02493305066416695\n"
     ]
    }
   ],
   "source": [
    "print_tiers(train_regs[label].values)"
   ]
  },
  {
   "cell_type": "code",
   "execution_count": null,
   "metadata": {},
   "outputs": [],
   "source": []
  }
 ],
 "metadata": {
  "kernelspec": {
   "display_name": "Python 3",
   "language": "python",
   "name": "python3"
  },
  "language_info": {
   "codemirror_mode": {
    "name": "ipython",
    "version": 3
   },
   "file_extension": ".py",
   "mimetype": "text/x-python",
   "name": "python",
   "nbconvert_exporter": "python",
   "pygments_lexer": "ipython3",
   "version": "3.6.5"
  }
 },
 "nbformat": 4,
 "nbformat_minor": 2
}
